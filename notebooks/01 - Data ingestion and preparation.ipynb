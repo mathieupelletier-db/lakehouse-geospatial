{
 "cells": [
  {
   "cell_type": "code",
   "execution_count": 0,
   "metadata": {
    "application/vnd.databricks.v1+cell": {
     "cellMetadata": {
      "byteLimit": 2048000,
      "rowLimit": 10000
     },
     "inputWidgets": {},
     "nuid": "bbb20f70-dcd5-4ce5-8ae0-bdacc0c9986f",
     "showTitle": false,
     "tableResultSettingsMap": {},
     "title": ""
    }
   },
   "outputs": [],
   "source": [
    "%run \"./00 - Setup\""
   ]
  },
  {
   "cell_type": "code",
   "execution_count": 0,
   "metadata": {
    "application/vnd.databricks.v1+cell": {
     "cellMetadata": {
      "byteLimit": 2048000,
      "rowLimit": 10000
     },
     "inputWidgets": {},
     "nuid": "1de4204f-545b-4b81-b0d4-afb86c32b7ee",
     "showTitle": false,
     "tableResultSettingsMap": {},
     "title": ""
    }
   },
   "outputs": [],
   "source": [
    "%pip install folium\n"
   ]
  },
  {
   "cell_type": "code",
   "execution_count": 0,
   "metadata": {
    "application/vnd.databricks.v1+cell": {
     "cellMetadata": {
      "byteLimit": 2048000,
      "rowLimit": 10000
     },
     "inputWidgets": {},
     "nuid": "297aeb44-a183-45f9-b2dd-155b70ac6360",
     "showTitle": false,
     "tableResultSettingsMap": {},
     "title": ""
    }
   },
   "outputs": [],
   "source": [
    "catalog = dbutils.widgets.get(\"catalog\")\n",
    "database = dbutils.widgets.get(\"database\")\n",
    "volume = dbutils.widgets.get(\"volume\")"
   ]
  },
  {
   "cell_type": "code",
   "execution_count": 0,
   "metadata": {
    "application/vnd.databricks.v1+cell": {
     "cellMetadata": {
      "byteLimit": 2048000,
      "implicitDf": true,
      "rowLimit": 10000
     },
     "inputWidgets": {},
     "nuid": "fccd826c-6de5-4018-8760-a242a46dbc85",
     "showTitle": false,
     "tableResultSettingsMap": {},
     "title": ""
    }
   },
   "outputs": [],
   "source": [
    "%sql\n",
    "-- CHANGE THESE VARIABLES AS NEEDED\n",
    "USE CATALOG ${catalog};\n",
    "CREATE DATABASE IF NOT EXISTS ${database};\n",
    "CREATE VOLUME IF NOT EXISTS ${database}.${volume};"
   ]
  },
  {
   "cell_type": "code",
   "execution_count": 0,
   "metadata": {
    "application/vnd.databricks.v1+cell": {
     "cellMetadata": {
      "byteLimit": 2048000,
      "rowLimit": 10000
     },
     "inputWidgets": {},
     "nuid": "4368d450-b74a-4ef4-adf9-3521bec6cea2",
     "showTitle": false,
     "tableResultSettingsMap": {},
     "title": ""
    }
   },
   "outputs": [],
   "source": [
    "print(f\"{catalog}.{database}\")"
   ]
  },
  {
   "cell_type": "code",
   "execution_count": 0,
   "metadata": {
    "application/vnd.databricks.v1+cell": {
     "cellMetadata": {
      "byteLimit": 2048000,
      "rowLimit": 10000
     },
     "inputWidgets": {},
     "nuid": "57c1e287-fa7a-4978-8cd6-cf53c4a97a9c",
     "showTitle": false,
     "tableResultSettingsMap": {},
     "title": ""
    }
   },
   "outputs": [],
   "source": [
    "from pyspark.sql.functions import to_date, to_timestamp, col, expr, explode\n"
   ]
  },
  {
   "cell_type": "markdown",
   "metadata": {
    "application/vnd.databricks.v1+cell": {
     "cellMetadata": {},
     "inputWidgets": {},
     "nuid": "5d659b75-6cab-4d40-9c21-672a9af220c5",
     "showTitle": false,
     "tableResultSettingsMap": {},
     "title": ""
    }
   },
   "source": [
    "## Ingest CSV\n",
    "\n",
    "NUFORC geolocated and time standardized ufo reports for close to a century of data. 80,000 plus reports.\n"
   ]
  },
  {
   "cell_type": "code",
   "execution_count": 0,
   "metadata": {
    "application/vnd.databricks.v1+cell": {
     "cellMetadata": {
      "byteLimit": 2048000,
      "rowLimit": 10000
     },
     "inputWidgets": {},
     "nuid": "53fdc76c-8674-4751-8ea2-f9fd5c16c68a",
     "showTitle": false,
     "tableResultSettingsMap": {},
     "title": ""
    }
   },
   "outputs": [],
   "source": [
    "# Get the current notebook path\n",
    "current_path = dbutils.notebook.entry_point.getDbutils().notebook().getContext().notebookPath().get()\n",
    "\n",
    "# Display the current path\n",
    "display(current_path)"
   ]
  },
  {
   "cell_type": "code",
   "execution_count": 0,
   "metadata": {
    "application/vnd.databricks.v1+cell": {
     "cellMetadata": {
      "byteLimit": 2048000,
      "rowLimit": 10000
     },
     "inputWidgets": {},
     "nuid": "6c15f83f-5877-49bb-b393-2f66bd63a659",
     "showTitle": false,
     "tableResultSettingsMap": {},
     "title": ""
    }
   },
   "outputs": [],
   "source": [
    "from pyspark.sql.types import StructType, StructField, StringType, DoubleType\n",
    "from pyspark.sql.functions import to_date, to_timestamp, col, expr, monotonically_increasing_id\n",
    "\n",
    "# Define the schema for the CSV file\n",
    "schema = StructType([\n",
    "    StructField(\"datetime\", StringType(), True),\n",
    "    StructField(\"city\", StringType(), True),\n",
    "    StructField(\"state\", StringType(), True),\n",
    "    StructField(\"country\", StringType(), True),\n",
    "    StructField(\"shape\", StringType(), True),\n",
    "    StructField(\"duration_seconds\", DoubleType(), True),\n",
    "    StructField(\"duration_hours_min\", StringType(), True),\n",
    "    StructField(\"comments\", StringType(), True),\n",
    "    StructField(\"date_posted\", StringType(), True),\n",
    "    StructField(\"latitude\", DoubleType(), True),\n",
    "    StructField(\"longitude\", DoubleType(), True)\n",
    "])\n",
    "\n",
    "# Example path to the file in the workspace folder\n",
    "file_path = f\"file:/Workspace/{current_path}/../../data/ufo-scrubbed-geocoded-time-standardized.csv\"\n",
    "\n",
    "# Load the CSV file using Spark with the defined schema\n",
    "df = spark.read.format(\"csv\") \\\n",
    "    .option(\"header\", \"false\") \\\n",
    "    .schema(schema) \\\n",
    "    .load(file_path)\n",
    "\n",
    "# Filter out rows where latitude or longitude is null\n",
    "df = df.filter(col(\"latitude\").isNotNull() & col(\"longitude\").isNotNull())\n",
    "\n",
    "# Convert datetime and date_posted columns to date type\n",
    "df = df.withColumn(\"geometry\", expr(\"st_aswkt(st_point(longitude, latitude))\"))\n",
    "\n",
    "# Add an auto-increment ID column\n",
    "df = df.withColumn(\"id\", monotonically_increasing_id())\n",
    "\n",
    "# Display the DataFrame\n",
    "df.display()"
   ]
  },
  {
   "cell_type": "code",
   "execution_count": 0,
   "metadata": {
    "application/vnd.databricks.v1+cell": {
     "cellMetadata": {
      "byteLimit": 2048000,
      "rowLimit": 10000
     },
     "inputWidgets": {},
     "nuid": "71ced088-42b4-45a9-882d-14dcbc9a7b39",
     "showTitle": false,
     "tableResultSettingsMap": {},
     "title": ""
    }
   },
   "outputs": [],
   "source": [
    "df.write.mode(\"overwrite\").saveAsTable(f\"{catalog}.{database}.ufo_sightings\")"
   ]
  },
  {
   "cell_type": "code",
   "execution_count": 0,
   "metadata": {
    "application/vnd.databricks.v1+cell": {
     "cellMetadata": {
      "byteLimit": 2048000,
      "implicitDf": true,
      "rowLimit": 10000
     },
     "inputWidgets": {},
     "nuid": "d552ec38-5911-4df1-a37e-13cd7a69aa36",
     "showTitle": false,
     "tableResultSettingsMap": {},
     "title": ""
    }
   },
   "outputs": [
    {
     "output_type": "display_data",
     "data": {
      "text/plain": [
       "Databricks visualization. Run in Databricks to view."
      ]
     },
     "metadata": {
      "application/vnd.databricks.v1.subcommand+json": {
       "baseErrorDetails": null,
       "bindings": {
        "catalog": "mpelletier",
        "database": "summit"
       },
       "collapsed": false,
       "command": "%sql WITH q AS (SELECT shape, count(shape) FROM ${catalog}.${database}.sightseeings\nGROUP BY shape) SELECT `shape`,SUM(`count(shape)`) `column_727c5897130` FROM q GROUP BY `shape`",
       "commandTitle": "Visualization 1",
       "commandType": "auto",
       "commandVersion": 0,
       "commentThread": [],
       "commentsVisible": false,
       "contentSha256Hex": null,
       "customPlotOptions": {
        "redashChart": [
         {
          "key": "type",
          "value": "CHART"
         },
         {
          "key": "options",
          "value": {
           "alignYAxesAtZero": true,
           "coefficient": 1,
           "columnConfigurationMap": {
            "x": {
             "column": "shape",
             "id": "column_727c5897129"
            },
            "y": [
             {
              "column": "count(shape)",
              "id": "column_727c5897130",
              "transform": "SUM"
             }
            ]
           },
           "dateTimeFormat": "DD/MM/YYYY HH:mm",
           "direction": {
            "type": "counterclockwise"
           },
           "error_y": {
            "type": "data",
            "visible": true
           },
           "globalSeriesType": "column",
           "legend": {
            "traceorder": "normal"
           },
           "missingValuesAsZero": true,
           "numberFormat": "0,0.[00000]",
           "percentFormat": "0[.]00%",
           "series": {
            "error_y": {
             "type": "data",
             "visible": true
            },
            "stacking": null
           },
           "seriesOptions": {
            "column_727c5897130": {
             "name": "count(shape)",
             "yAxis": 0
            }
           },
           "showDataLabels": false,
           "sizemode": "diameter",
           "sortX": true,
           "sortY": true,
           "swappedAxes": true,
           "textFormat": "",
           "useAggregationsUi": true,
           "valuesOptions": {},
           "version": 2,
           "xAxis": {
            "labels": {
             "enabled": true
            },
            "type": "-"
           },
           "yAxis": [
            {
             "type": "-"
            },
            {
             "opposite": true,
             "type": "-"
            }
           ]
          }
         }
        ]
       },
       "datasetPreviewNameToCmdIdMap": {},
       "diffDeletes": [],
       "diffInserts": [],
       "displayType": "redashChart",
       "error": null,
       "errorDetails": null,
       "errorSummary": null,
       "errorTraceType": null,
       "finishTime": 0,
       "globalVars": {},
       "guid": "",
       "height": "auto",
       "hideCommandCode": false,
       "hideCommandResult": false,
       "iPythonMetadata": null,
       "inputWidgets": {},
       "isLockedInExamMode": false,
       "latestUser": "a user",
       "latestUserId": null,
       "listResultMetadata": null,
       "metadata": {},
       "nuid": "4b9c5337-a408-4327-bd54-3b808599a46a",
       "origId": 0,
       "parentHierarchy": [],
       "pivotAggregation": null,
       "pivotColumns": null,
       "position": 1.150390625,
       "resultDbfsErrorMessage": null,
       "resultDbfsStatus": "INLINED_IN_TREE",
       "results": null,
       "showCommandTitle": false,
       "startTime": 0,
       "state": "input",
       "streamStates": {},
       "subcommandOptions": {
        "queryPlan": {
         "groups": [
          {
           "column": "shape",
           "type": "column"
          }
         ],
         "selects": [
          {
           "column": "shape",
           "type": "column"
          },
          {
           "alias": "column_727c5897130",
           "args": [
            {
             "column": "count(shape)",
             "type": "column"
            }
           ],
           "function": "SUM",
           "type": "function"
          }
         ]
        }
       },
       "submitTime": 0,
       "subtype": "tableResultSubCmd.visualization",
       "tableResultIndex": 0,
       "tableResultSettingsMap": {},
       "useConsistentColors": false,
       "version": "CommandV1",
       "width": "auto",
       "workflows": null,
       "xColumns": null,
       "yColumns": null
      }
     },
     "output_type": "display_data"
    }
   ],
   "source": [
    "%sql\n",
    "SELECT shape, count(shape) FROM ${catalog}.${database}.ufo_sightings\n",
    "GROUP BY shape;"
   ]
  },
  {
   "cell_type": "code",
   "execution_count": 0,
   "metadata": {
    "application/vnd.databricks.v1+cell": {
     "cellMetadata": {
      "byteLimit": 2048000,
      "implicitDf": true,
      "rowLimit": 10000
     },
     "inputWidgets": {},
     "nuid": "812394f8-ad85-441c-a75a-0b30a8b24cb6",
     "showTitle": false,
     "tableResultSettingsMap": {},
     "title": ""
    }
   },
   "outputs": [],
   "source": [
    "%sql\n",
    "SELECT \n",
    "  CASE \n",
    "    WHEN HOUR(to_timestamp(datetime, \"MM/dd/yyyy HH:mm\")) BETWEEN 6 AND 18 THEN 'Daytime'\n",
    "    ELSE 'Nighttime'\n",
    "  END AS time_of_day, \n",
    "  COUNT(*) AS sighting_count\n",
    "FROM ${catalog}.${database}.ufo_sightings\n",
    "GROUP BY \n",
    "  CASE \n",
    "    WHEN HOUR(to_timestamp(datetime, \"MM/dd/yyyy HH:mm\")) BETWEEN 6 AND 18 THEN 'Daytime'\n",
    "    ELSE 'Nighttime'\n",
    "  END;"
   ]
  },
  {
   "cell_type": "code",
   "execution_count": 0,
   "metadata": {
    "application/vnd.databricks.v1+cell": {
     "cellMetadata": {
      "byteLimit": 2048000,
      "rowLimit": 10000
     },
     "inputWidgets": {},
     "nuid": "9b140cbc-2bca-41a6-bc38-84258d4b50f6",
     "showTitle": false,
     "tableResultSettingsMap": {},
     "title": ""
    }
   },
   "outputs": [],
   "source": [
    "# Convert Spark DataFrame to Pandas DataFrame\n",
    "pandas_df = spark.read.table(f\"{catalog}.{database}.sightseeings\").limit(100).toPandas()\n",
    "\n",
    "# Import Folium and IPython display\n",
    "import folium\n",
    "#from IPython.display import display\n",
    "\n",
    "# Create a map centered around the average latitude and longitude\n",
    "map_center = [pandas_df['latitude'].mean(), pandas_df['longitude'].mean()]\n",
    "m = folium.Map(location=map_center, zoom_start=5)\n",
    "\n",
    "ufo_icon_url = 'https://cdn-icons-png.flaticon.com/512/3306/3306571.png'  # Replace with the actual URL to your UFO icon\n",
    "\n",
    "# Add points to the map\n",
    "for _, row in pandas_df.iterrows():\n",
    "    folium.Marker(\n",
    "        location=[row['latitude'], row['longitude']],\n",
    "        popup=f\"Shape: {row['shape']}, Time: {row['datetime']}, Comments: {row['comments']}\",\n",
    "        icon=folium.CustomIcon(ufo_icon_url, icon_size=(30, 30))  # Adjust icon_size as needed\n",
    "    ).add_to(m)\n",
    "\n",
    "m"
   ]
  },
  {
   "cell_type": "markdown",
   "metadata": {
    "application/vnd.databricks.v1+cell": {
     "cellMetadata": {},
     "inputWidgets": {},
     "nuid": "d7ab42c2-11ef-406e-8900-842eda38f1a9",
     "showTitle": false,
     "tableResultSettingsMap": {},
     "title": ""
    }
   },
   "source": [
    "## How to ingest ArcGIS data\n",
    "\n",
    "    Options:\n",
    "        - `url` (str): The ArcGIS FeatureServer endpoint without query parameters. **Required**.\n",
    "        - `where` (str): Filter results based on the where clause. Defaults to 1=1.\n",
    "        - `outFields` (str): Determine which field to includes in the response. Defaults to *.\n",
    "        - `chunkSize` (int): Process records in chunks of `chunkSize` records at a time. Defaults to 1000 which is the maximum supported by ArcGIS server.\n",
    "\n",
    "    Example Usage:\n",
    "        df = (\n",
    "            spark.read.format(\"arcgis\")\n",
    "            .option(\"url\", url)\n",
    "            .option(\"where\", \"1=1\")\n",
    "            .option(\"outFields\", \"*\")\n",
    "            .option(\"chunkSize\", \"1000\")\n",
    "            .load()\n",
    "        )"
   ]
  },
  {
   "cell_type": "markdown",
   "metadata": {
    "application/vnd.databricks.v1+cell": {
     "cellMetadata": {},
     "inputWidgets": {},
     "nuid": "87c331ed-d6bf-4c71-b15a-68daccb02f77",
     "showTitle": false,
     "tableResultSettingsMap": {},
     "title": ""
    }
   },
   "source": [
    "## Ingest major cities\n",
    "Population greater than 10K"
   ]
  },
  {
   "cell_type": "code",
   "execution_count": 0,
   "metadata": {
    "application/vnd.databricks.v1+cell": {
     "cellMetadata": {
      "byteLimit": 2048000,
      "rowLimit": 10000
     },
     "inputWidgets": {},
     "nuid": "9641a6d8-71de-43e9-9add-b6a439f31bdb",
     "showTitle": false,
     "tableResultSettingsMap": {},
     "title": ""
    }
   },
   "outputs": [],
   "source": [
    "cities_df = spark.read.format(\"arcgis\") \\\n",
    ".option(\"url\", \"https://services.arcgis.com/P3ePLMYs2RVChkJx/arcgis/rest/services/USA_Major_Cities_/FeatureServer/0\") \\\n",
    ".load() \n",
    "\n",
    "cities_df = cities_df.withColumn(\"geometry\", expr(\"st_aswkt(ST_GeomFromGeoJSON(geometry))\"))\n",
    "\n",
    "cities_df.display()"
   ]
  },
  {
   "cell_type": "code",
   "execution_count": 0,
   "metadata": {
    "application/vnd.databricks.v1+cell": {
     "cellMetadata": {
      "byteLimit": 2048000,
      "rowLimit": 10000
     },
     "inputWidgets": {},
     "nuid": "0a942502-ebe7-42bd-a435-dd3cae061713",
     "showTitle": false,
     "tableResultSettingsMap": {},
     "title": ""
    }
   },
   "outputs": [],
   "source": [
    "from pyspark.sql.functions import col, explode, map_keys, lower\n",
    "\n",
    "# Get all unique keys from the map column\n",
    "keys_df = cities_df.select(explode(map_keys(col(\"properties\")))).distinct()\n",
    "\n",
    "# Collect keys into a list\n",
    "keys = [row[0] for row in keys_df.collect()]\n",
    "\n",
    "# Create columns for each key\n",
    "for key in keys:\n",
    "    cities_df = cities_df.withColumn(key.lower(), col(\"properties\").getItem(key))\n",
    "cities_df = cities_df.drop(\"properties\")\n",
    "\n",
    "cities_df.write.mode(\"overwrite\").saveAsTable(f\"{catalog}.{database}.major_cities\")"
   ]
  },
  {
   "cell_type": "code",
   "execution_count": 0,
   "metadata": {
    "application/vnd.databricks.v1+cell": {
     "cellMetadata": {
      "byteLimit": 2048000,
      "implicitDf": true,
      "rowLimit": 10000
     },
     "inputWidgets": {},
     "nuid": "b942f0b8-926d-4ae3-86ac-26cafcb1db28",
     "showTitle": false,
     "tableResultSettingsMap": {},
     "title": ""
    }
   },
   "outputs": [],
   "source": [
    "%sql\n",
    "ALTER TABLE ${catalog}.${database}.major_cities\n",
    "ALTER COLUMN id SET NOT NULL;\n",
    "\n",
    "ALTER TABLE ${catalog}.${database}.major_cities\n",
    "ADD CONSTRAINT major_cities_pk PRIMARY KEY (id);"
   ]
  },
  {
   "cell_type": "markdown",
   "metadata": {
    "application/vnd.databricks.v1+cell": {
     "cellMetadata": {},
     "inputWidgets": {},
     "nuid": "29b50fa3-f5e3-4e03-930c-3b0b70d1bd2d",
     "showTitle": false,
     "tableResultSettingsMap": {},
     "title": ""
    }
   },
   "source": [
    "## Ingest airports"
   ]
  },
  {
   "cell_type": "code",
   "execution_count": 0,
   "metadata": {
    "application/vnd.databricks.v1+cell": {
     "cellMetadata": {
      "byteLimit": 2048000,
      "rowLimit": 10000
     },
     "inputWidgets": {},
     "nuid": "4ce90056-a7cd-4b84-b8a4-119871a74652",
     "showTitle": false,
     "tableResultSettingsMap": {},
     "title": ""
    }
   },
   "outputs": [],
   "source": [
    "airport_df = spark.read.format(\"arcgis\") \\\n",
    ".option(\"url\", \"https://services6.arcgis.com/ssFJjBXIUyZDrSYZ/arcgis/rest/services/US_Airport/FeatureServer/0\") \\\n",
    ".load()\n",
    "\n",
    "airport_df.display()"
   ]
  },
  {
   "cell_type": "code",
   "execution_count": 0,
   "metadata": {
    "application/vnd.databricks.v1+cell": {
     "cellMetadata": {
      "byteLimit": 2048000,
      "rowLimit": 10000
     },
     "inputWidgets": {},
     "nuid": "c54de5e7-5644-4183-b3e0-82c09cebcbc5",
     "showTitle": false,
     "tableResultSettingsMap": {},
     "title": ""
    }
   },
   "outputs": [],
   "source": [
    "from pyspark.sql.functions import col, explode, map_keys, lower\n",
    "\n",
    "# Get all unique keys from the map column\n",
    "keys_df = airport_df.select(explode(map_keys(col(\"properties\")))).distinct()\n",
    "\n",
    "# Collect keys into a list\n",
    "keys = [row[0] for row in keys_df.collect()]\n",
    "\n",
    "# Create columns for each key\n",
    "for key in keys:\n",
    "    airport_df = airport_df.withColumn(key.lower(), col(\"properties\").getItem(key))\n",
    "airport_df = airport_df.drop(\"properties\")\n",
    "\n",
    "airport_df.write.mode(\"overwrite\").saveAsTable(f\"{catalog}.{database}.airports\")"
   ]
  },
  {
   "cell_type": "code",
   "execution_count": 0,
   "metadata": {
    "application/vnd.databricks.v1+cell": {
     "cellMetadata": {
      "byteLimit": 2048000,
      "implicitDf": true,
      "rowLimit": 10000
     },
     "inputWidgets": {},
     "nuid": "5714ebc1-8f62-4196-9812-308a2d75dfff",
     "showTitle": false,
     "tableResultSettingsMap": {},
     "title": ""
    }
   },
   "outputs": [],
   "source": [
    "%sql\n",
    "ALTER TABLE ${catalog}.${database}.airports\n",
    "ALTER COLUMN id SET NOT NULL;\n",
    "\n",
    "ALTER TABLE ${catalog}.${database}.airports\n",
    "ADD CONSTRAINT airports_pk PRIMARY KEY (id);"
   ]
  },
  {
   "cell_type": "markdown",
   "metadata": {
    "application/vnd.databricks.v1+cell": {
     "cellMetadata": {},
     "inputWidgets": {},
     "nuid": "cf7f9513-2f03-4e36-82b6-359542e26fbe",
     "showTitle": false,
     "tableResultSettingsMap": {},
     "title": ""
    }
   },
   "source": [
    "## Ingest counties"
   ]
  },
  {
   "cell_type": "code",
   "execution_count": 0,
   "metadata": {
    "application/vnd.databricks.v1+cell": {
     "cellMetadata": {
      "byteLimit": 2048000,
      "rowLimit": 10000
     },
     "inputWidgets": {},
     "nuid": "9ffd4247-ab6b-4d89-9365-1d6c03ca82f9",
     "showTitle": false,
     "tableResultSettingsMap": {},
     "title": ""
    }
   },
   "outputs": [],
   "source": [
    "counties_df = spark.read.format(\"arcgis\") \\\n",
    ".option(\"url\", \"https://services5.arcgis.com/FlidZxdI0LGC9vAw/arcgis/rest/services/US_County_Reference_Data/FeatureServer/0\") \\\n",
    ".load()\n",
    "\n",
    "counties_df.display()"
   ]
  },
  {
   "cell_type": "code",
   "execution_count": 0,
   "metadata": {
    "application/vnd.databricks.v1+cell": {
     "cellMetadata": {
      "byteLimit": 2048000,
      "rowLimit": 10000
     },
     "inputWidgets": {},
     "nuid": "acbe59ff-0f6e-4935-9ab5-ae892be6fde9",
     "showTitle": false,
     "tableResultSettingsMap": {},
     "title": ""
    }
   },
   "outputs": [],
   "source": [
    "from pyspark.sql.functions import col, explode, map_keys, lower\n",
    "\n",
    "# Get all unique keys from the map column\n",
    "keys_df = counties_df.select(explode(map_keys(col(\"properties\")))).distinct()\n",
    "\n",
    "# Collect keys into a list\n",
    "keys = [row[0] for row in keys_df.collect()]\n",
    "\n",
    "# Create columns for each key\n",
    "for key in keys:\n",
    "    counties_df = counties_df.withColumn(key.lower(), col(\"properties\").getItem(key))\n",
    "counties_df = counties_df.withColumnRenamed(\"name\", \"county\").drop(\"properties\")\n",
    "\n",
    "counties_df.write.mode(\"overwrite\").saveAsTable(f\"{catalog}.{database}.counties\")"
   ]
  },
  {
   "cell_type": "code",
   "execution_count": 0,
   "metadata": {
    "application/vnd.databricks.v1+cell": {
     "cellMetadata": {
      "byteLimit": 2048000,
      "implicitDf": true,
      "rowLimit": 10000
     },
     "inputWidgets": {},
     "nuid": "6ca340ef-29ae-4edc-8007-002657df13c0",
     "showTitle": false,
     "tableResultSettingsMap": {},
     "title": ""
    }
   },
   "outputs": [],
   "source": [
    "%sql\n",
    "ALTER TABLE ${catalog}.${database}.counties\n",
    "ALTER COLUMN id SET NOT NULL;\n",
    "\n",
    "ALTER TABLE ${catalog}.${database}.counties\n",
    "ADD CONSTRAINT counties_pk PRIMARY KEY (id);"
   ]
  },
  {
   "cell_type": "code",
   "execution_count": 0,
   "metadata": {
    "application/vnd.databricks.v1+cell": {
     "cellMetadata": {
      "byteLimit": 2048000,
      "rowLimit": 10000
     },
     "inputWidgets": {},
     "nuid": "57a10a76-9d6c-48db-a28f-6652580c25e7",
     "showTitle": false,
     "tableResultSettingsMap": {},
     "title": ""
    }
   },
   "outputs": [],
   "source": [
    "import folium\n",
    "#from IPython.display import display\n",
    "\n",
    "# Convert Spark DataFrame to Pandas DataFrame\n",
    "pandas_df = counties_df.select(\"geometry\").toPandas()\n",
    "\n",
    "# Create a map centered around the average latitude and longitude of the geometries\n",
    "map_center = [37.0902, -95.7129]\n",
    "m = folium.Map(location=map_center, zoom_start=5)\n",
    "\n",
    "# Add geometries to the map\n",
    "for _, row in pandas_df.iterrows():\n",
    "    folium.GeoJson(row['geometry']).add_to(m)\n",
    "\n",
    "# Display the map\n",
    "m"
   ]
  }
 ],
 "metadata": {
  "application/vnd.databricks.v1+notebook": {
   "computePreferences": null,
   "dashboards": [],
   "environmentMetadata": {
    "base_environment": "",
    "environment_version": "2"
   },
   "inputWidgetPreferences": null,
   "language": "python",
   "notebookMetadata": {
    "mostRecentlyExecutedCommandWithImplicitDF": {
     "commandId": 3656236635252029,
     "dataframes": [
      "_sqldf"
     ]
    },
    "pythonIndentUnit": 2
   },
   "notebookName": "01 - Data ingestion and preparation",
   "widgets": {
    "catalog": {
     "currentValue": "mpelletier",
     "nuid": "083fd02a-c8ec-4f09-9dc9-aee50a3a01e3",
     "typedWidgetInfo": {
      "autoCreated": false,
      "defaultValue": "mpelletier",
      "label": null,
      "name": "catalog",
      "options": {
       "widgetDisplayType": "Text",
       "validationRegex": null
      },
      "parameterDataType": "String"
     },
     "widgetInfo": {
      "widgetType": "text",
      "defaultValue": "mpelletier",
      "label": null,
      "name": "catalog",
      "options": {
       "widgetType": "text",
       "autoCreated": null,
       "validationRegex": null
      }
     }
    },
    "database": {
     "currentValue": "summit",
     "nuid": "4cd9b8ad-d7bb-4add-8616-ee9bd7288f52",
     "typedWidgetInfo": {
      "autoCreated": false,
      "defaultValue": "summit",
      "label": null,
      "name": "database",
      "options": {
       "widgetDisplayType": "Text",
       "validationRegex": null
      },
      "parameterDataType": "String"
     },
     "widgetInfo": {
      "widgetType": "text",
      "defaultValue": "summit",
      "label": null,
      "name": "database",
      "options": {
       "widgetType": "text",
       "autoCreated": null,
       "validationRegex": null
      }
     }
    },
    "volume": {
     "currentValue": "input",
     "nuid": "7ef4ad70-287b-4f8a-aa96-2e37c4b45c04",
     "typedWidgetInfo": {
      "autoCreated": false,
      "defaultValue": "input",
      "label": null,
      "name": "volume",
      "options": {
       "widgetDisplayType": "Text",
       "validationRegex": null
      },
      "parameterDataType": "String"
     },
     "widgetInfo": {
      "widgetType": "text",
      "defaultValue": "input",
      "label": null,
      "name": "volume",
      "options": {
       "widgetType": "text",
       "autoCreated": null,
       "validationRegex": null
      }
     }
    }
   }
  },
  "language_info": {
   "name": "python"
  }
 },
 "nbformat": 4,
 "nbformat_minor": 0
}
