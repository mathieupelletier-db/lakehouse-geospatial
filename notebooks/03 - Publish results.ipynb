{
 "cells": [
  {
   "cell_type": "code",
   "execution_count": 0,
   "metadata": {
    "application/vnd.databricks.v1+cell": {
     "cellMetadata": {
      "byteLimit": 2048000,
      "rowLimit": 10000
     },
     "inputWidgets": {},
     "nuid": "6cf54e82-3cf6-41c8-b849-e96c2ff04bc4",
     "showTitle": false,
     "tableResultSettingsMap": {},
     "title": ""
    }
   },
   "outputs": [],
   "source": [
    "%run \"./00 - Setup\""
   ]
  },
  {
   "cell_type": "code",
   "execution_count": 0,
   "metadata": {
    "application/vnd.databricks.v1+cell": {
     "cellMetadata": {
      "byteLimit": 2048000,
      "rowLimit": 10000
     },
     "inputWidgets": {},
     "nuid": "0373b2c9-5a0b-4ddf-b6aa-2926f3b91e94",
     "showTitle": false,
     "tableResultSettingsMap": {},
     "title": ""
    }
   },
   "outputs": [],
   "source": [
    "print(f\"{catalog}.{database}\")"
   ]
  },
  {
   "cell_type": "markdown",
   "metadata": {
    "application/vnd.databricks.v1+cell": {
     "cellMetadata": {},
     "inputWidgets": {},
     "nuid": "fdef19a0-4eb0-4b17-9f0f-7297df760be5",
     "showTitle": false,
     "tableResultSettingsMap": {},
     "title": ""
    }
   },
   "source": [
    "## Create access token\n",
    "Using web terminal"
   ]
  },
  {
   "cell_type": "code",
   "execution_count": 0,
   "metadata": {
    "application/vnd.databricks.v1+cell": {
     "cellMetadata": {
      "byteLimit": 2048000,
      "rowLimit": 10000
     },
     "inputWidgets": {},
     "nuid": "a015cbee-350d-419d-a56e-905ee924986d",
     "showTitle": false,
     "tableResultSettingsMap": {},
     "title": ""
    }
   },
   "outputs": [],
   "source": [
    "%sh\n",
    "databricks secrets create-scope summit-ufo"
   ]
  },
  {
   "cell_type": "code",
   "execution_count": 0,
   "metadata": {
    "application/vnd.databricks.v1+cell": {
     "cellMetadata": {
      "byteLimit": 2048000,
      "rowLimit": 10000
     },
     "inputWidgets": {},
     "nuid": "d4a6517e-8db3-4b44-9936-22fb403e0030",
     "showTitle": false,
     "tableResultSettingsMap": {},
     "title": ""
    }
   },
   "outputs": [],
   "source": [
    "%sh\n",
    "databricks secrets put-secret summit-ufo token"
   ]
  },
  {
   "cell_type": "markdown",
   "metadata": {
    "application/vnd.databricks.v1+cell": {
     "cellMetadata": {},
     "inputWidgets": {},
     "nuid": "925e3631-4fb7-4f89-b211-b1d055cd34e7",
     "showTitle": false,
     "tableResultSettingsMap": {},
     "title": ""
    }
   },
   "source": [
    "# Publish to PowerBI \n",
    "\n",
    "Documentation: https://www.databricks.com/blog/announcing-general-availability-publish-microsoft-power-bi-service-unity-catalog\n",
    "\n",
    "1. Go in the Catalog browser and select your catalog and database\n",
    "2. On the database, click on the Publish to Power BI button\n",
    "![Alt text](../data/publish_to_power_bi.png)\n",
    "\n",
    "3. Connect to your Power BI workspace\n",
    "\n",
    "![Alt text](../data/connect_to_power_bi.png)\n",
    "\n",
    "4. Navigate to Power BI \n",
    "5. Explore the Semantic model automatically created (Open Data Model)\n",
    "\n",
    "![Alt text](../data/semantic_model.png)\n",
    "\n",
    "6. Create map-powered reports using:\n",
    "7. Map (Lat/Long)\n",
    "\n",
    "![Alt text](../data/power_bi_map_lat_long.jpg)\n",
    "\n",
    "8. Filled Map (County)\n",
    "\n",
    "![Alt text](../data/power_bi_filled_map.jpg)\n",
    "\n",
    "9. ArcGIS for Power BI (Add layers)\n",
    "\n",
    "![Alt text](../data/power_bi_arcgis_integration.png)\n",
    "\n",
    "\n"
   ]
  },
  {
   "cell_type": "markdown",
   "metadata": {
    "application/vnd.databricks.v1+cell": {
     "cellMetadata": {},
     "inputWidgets": {},
     "nuid": "355dd240-8ede-4ccf-aa49-5f8220f3d18f",
     "showTitle": false,
     "tableResultSettingsMap": {},
     "title": ""
    }
   },
   "source": [
    "# Deploy using Apps\n",
    "\n",
    "Documentation: https://www.databricks.com/blog/introducing-databricks-apps\n",
    "\n",
    "1. In Compute section, select Apps tab\n",
    "2. Create a New App by selecting Custom template (Use your own source code)\n",
    "\n",
    "  ![Alt text](../data/create_app.png)\n",
    "\n",
    "3. Fill out required information\n",
    "  1. Make sure to add a SQL Warehouse and Serving Endpoint (Optional)\n",
    "4. Use Databricks CLI on your machine on in a web terminal, deploy the app source code: \n",
    "  `databricks apps deploy ufo-sightings-app --source-code-path /Workspace/Users/<username>/lakehouse-geospatial/src/apps/ufo-sightings-map`\n",
    "\n",
    "\n",
    "  ![Alt text](../data/deploy_app_cli.png)\n",
    "\n",
    "5. Navigate to the URL provided in the top section\n",
    "\n",
    "\n",
    "\n",
    "\n"
   ]
  }
 ],
 "metadata": {
  "application/vnd.databricks.v1+notebook": {
   "computePreferences": null,
   "dashboards": [],
   "environmentMetadata": {
    "base_environment": "",
    "environment_version": "2"
   },
   "inputWidgetPreferences": null,
   "language": "python",
   "notebookMetadata": {
    "mostRecentlyExecutedCommandWithImplicitDF": {
     "commandId": 763836920345242,
     "dataframes": [
      "_sqldf"
     ]
    },
    "pythonIndentUnit": 2
   },
   "notebookName": "03 - Publish results",
   "widgets": {}
  },
  "language_info": {
   "name": "python"
  }
 },
 "nbformat": 4,
 "nbformat_minor": 0
}
