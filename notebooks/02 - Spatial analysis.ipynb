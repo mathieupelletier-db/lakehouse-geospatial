{
 "cells": [
  {
   "cell_type": "code",
   "execution_count": 0,
   "metadata": {
    "application/vnd.databricks.v1+cell": {
     "cellMetadata": {
      "byteLimit": 2048000,
      "rowLimit": 10000
     },
     "inputWidgets": {},
     "nuid": "a08859de-0088-4d2f-871d-fa1d01b83e72",
     "showTitle": false,
     "tableResultSettingsMap": {},
     "title": ""
    }
   },
   "outputs": [],
   "source": [
    "%run \"./00 - Setup\""
   ]
  },
  {
   "cell_type": "code",
   "execution_count": 0,
   "metadata": {
    "application/vnd.databricks.v1+cell": {
     "cellMetadata": {
      "byteLimit": 2048000,
      "rowLimit": 10000
     },
     "inputWidgets": {},
     "nuid": "55014acb-2d7c-4088-8439-e0f3fe397179",
     "showTitle": false,
     "tableResultSettingsMap": {},
     "title": ""
    }
   },
   "outputs": [],
   "source": [
    "%pip install keplergl==0.3.2 --quiet\n",
    "dbutils.library.restartPython() # <- restart python kernel"
   ]
  },
  {
   "cell_type": "code",
   "execution_count": 0,
   "metadata": {
    "application/vnd.databricks.v1+cell": {
     "cellMetadata": {
      "byteLimit": 2048000,
      "rowLimit": 10000
     },
     "inputWidgets": {},
     "nuid": "0bde7c70-ff2f-4c73-994c-7ecc4269ae82",
     "showTitle": false,
     "tableResultSettingsMap": {},
     "title": ""
    }
   },
   "outputs": [],
   "source": [
    "use_kepler = True # <- optionally set to False to not use kepler"
   ]
  },
  {
   "cell_type": "code",
   "execution_count": 0,
   "metadata": {
    "application/vnd.databricks.v1+cell": {
     "cellMetadata": {
      "byteLimit": 2048000,
      "rowLimit": 10000
     },
     "inputWidgets": {},
     "nuid": "9ef3e443-2ee0-4b0c-9b3f-6b29f8abb296",
     "showTitle": false,
     "tableResultSettingsMap": {},
     "title": ""
    },
    "jupyter": {
     "source_hidden": true
    }
   },
   "outputs": [],
   "source": [
    "try:\n",
    "  print(f\"use keperl? {use_kepler}\")\n",
    "\n",
    "  if not use_kepler:\n",
    "    print(\"customer disabled helpers...\")\n",
    "    raise Exception(\"customer disabled helpers...\")\n",
    "\n",
    "  # -- setup helper functions\n",
    "  from dataclasses import dataclass\n",
    "  from dataclasses import field\n",
    "  from enum import Enum\n",
    "  from keplergl import KeplerGl\n",
    "  import math\n",
    "  from pyspark.sql import DataFrame\n",
    "  import re\n",
    "  from typing import List\n",
    "\n",
    "  kepler_height=800\n",
    "  kepler_width=1200\n",
    "\n",
    "\n",
    "  def display_kepler(kmap:KeplerGl, height:int=kepler_height, width:int=kepler_width) -> None:\n",
    "    \"\"\"\n",
    "    Convenience function to render map in kepler.gl\n",
    "    \"\"\"\n",
    "    decoded = (\n",
    "        kmap._repr_html_()\n",
    "        .decode(\"utf-8\")\n",
    "        .replace(\".height||400\", f\".height||{height}\")\n",
    "        .replace(\".width||400\", f\".width||{width}\")\n",
    "    )\n",
    "    ga_script_redacted = re.sub(\n",
    "        r\"\\<script\\>\\(function\\(i,s,o,g,r,a,m\\).*?GoogleAnalyticsObject.*?(\\<\\/script\\>)\",\n",
    "        \"\",\n",
    "        decoded,\n",
    "        flags=re.DOTALL,\n",
    "    )\n",
    "    async_script_redacted = re.sub(\n",
    "        r\"s\\.a\\.createElement\\(\\\"script\\\",\\{async.*?\\}\\),\",\n",
    "        \"\",\n",
    "        ga_script_redacted,\n",
    "        flags=re.DOTALL,\n",
    "    )\n",
    "    displayHTML(async_script_redacted)\n",
    "\n",
    "\n",
    "  class RENDER_TYPE(Enum):\n",
    "    \"\"\"Specify expected type of a 'render_col' in DFMapItem.\"\"\"\n",
    "    GEOMETRY = 100\n",
    "    H3_INT = 200\n",
    "    H3_STR = 300\n",
    "\n",
    "\n",
    "  class GEO_FORMAT(Enum):\n",
    "    \"\"\"Specify expected type of a 'render_col' in DFMapItem [when RENDER_TYPE = GEOMETRY].\"\"\"\n",
    "    WKT = 1\n",
    "    WKB = 2\n",
    "    GEOJSON = 3\n",
    "    EWKB = 4\n",
    "\n",
    "  @dataclass\n",
    "  class DFMapItem:\n",
    "    \"\"\"Class for holding some properties for rendering a map.\"\"\"\n",
    "    df:DataFrame\n",
    "    render_col:str\n",
    "    render_type:RENDER_TYPE\n",
    "    geo_format:GEO_FORMAT=None\n",
    "    layer_name:str=None\n",
    "    zoom_calc_sample_limit:int=None\n",
    "    exclude_cols:list=field(default_factory=list)\n",
    "\n",
    "\n",
    "  @dataclass\n",
    "  class ZoomInfo:\n",
    "    map_x:float\n",
    "    map_y:float\n",
    "    map_zoom:float\n",
    "\n",
    "  default_ZoomInfo = ZoomInfo(0.0, 0.0, 3.0)\n",
    "\n",
    "\n",
    "  def calc_ZoomInfo(dfMapItem:DFMapItem, debug_level:int=0) -> ZoomInfo:\n",
    "    \"\"\"\n",
    "    Example output of debug_level=1\n",
    "    {'xmin': -100.5, 'ymin': 50.05, 'xmax': -100.25, 'ymax': 50.5, 'centroid_x': -100.375, 'centroid_y': 50.275, 'pnt_sw': 'POINT(-100.5 50.05)', 'pnt_nw': 'POINT(-100.5 50.5)', 'pnt_se': 'POINT(-100.25 50.05)', 'pnt_ne': 'POINT(-100.25 50.5)',  'width_meters': 17905.33401827115, 'height_meters': 50055.461462782696, 'max_meters': 50055.461462782696, 'zoom': 9.5} \n",
    "    \"\"\"\n",
    "    # - handle zoom sample\n",
    "    df_samp = dfMapItem.df\n",
    "    samp_limit = dfMapItem.zoom_calc_sample_limit\n",
    "    if samp_limit is not None:\n",
    "      cnt = df_samp.count()\n",
    "      if samp_limit < cnt:\n",
    "        df_samp = (\n",
    "          df_samp\n",
    "            .dropna(dfMapItem.render_col)\n",
    "            .sample(float(samp_limit)/float(cnt))\n",
    "            .limit(samp_limit)\n",
    "        )\n",
    "\n",
    "    # - handle h3\n",
    "    geom_col = dfMapItem.render_col\n",
    "    if dfMapItem.render_type in [RENDER_TYPE.H3_INT,RENDER_TYPE.H3_STR]:\n",
    "      geom_col = \"h3_geom\"\n",
    "      df_samp = df_samp.withColumn(geom_col, F.expr(f\"h3_boundaryaswkb({dfMapItem.render_col})\"))\n",
    "\n",
    "    # standardize to SRID=4326\n",
    "    if dfMapItem.geo_format is not None:\n",
    "      from_str = None\n",
    "      if dfMapItem.geo_format == GEO_FORMAT.WKT:\n",
    "        from_str='wkt'\n",
    "      elif dfMapItem.geo_format == GEO_FORMAT.WKB:\n",
    "        from_str='wkb'\n",
    "      elif dfMapItem.geo_format == GEO_FORMAT.GEOJSON:\n",
    "        from_str='geojson'\n",
    "      elif dfMapItem.geo_format == GEO_FORMAT.EWKB:\n",
    "        from_str='ewkb'\n",
    "      # ... only do the operation if from_clause identified\n",
    "      if from_str is not None:\n",
    "        srid = df_samp.select(F.expr(f\"st_srid(st_geomfrom{from_str}({geom_col}))\")).first()[0]\n",
    "        if srid is not None and srid > 0 and srid != 4326:\n",
    "          df_samp = (\n",
    "            df_samp\n",
    "              .selectExpr(\n",
    "                f\"st_asbinary(st_transform(st_geomfrom{from_str}({geom_col}, 4326))) as {geom_col}\", \n",
    "                f\"* except({geom_col})\"\n",
    "              )\n",
    "          )\n",
    "\n",
    "    d = (\n",
    "      df_samp\n",
    "        # - xy min/max\n",
    "        .select( \n",
    "          F.expr(f\"st_xmin({geom_col}) as xmin\"), \n",
    "          F.expr(f\"st_ymin({geom_col}) as ymin\"),\n",
    "          F.expr(f\"st_xmax({geom_col}) as xmax\"),\n",
    "          F.expr(f\"st_ymax({geom_col}) as ymax\")\n",
    "        )\n",
    "      .groupBy()\n",
    "        .agg(\n",
    "          F.min(\"xmin\").alias(\"xmin\"),\n",
    "          F.min(\"ymin\").alias(\"ymin\"),\n",
    "          F.max(\"xmax\").alias(\"xmax\"),\n",
    "          F.max(\"ymax\").alias(\"ymax\")\n",
    "        )\n",
    "        # - centroid xy ranges\n",
    "        .withColumn(\"centroid_x\", F.expr(\"(xmin + xmax) / 2.0\"))\n",
    "        .withColumn(\"centroid_y\", F.expr(\"(ymin + ymax) / 2.0\"))  \n",
    "        .withColumn(\"pnt_sw\", F.expr(\"st_astext(st_point(xmin,ymin))\"))\n",
    "        .withColumn(\"pnt_nw\", F.expr(\"st_astext(st_point(xmin,ymax))\"))\n",
    "        .withColumn(\"pnt_se\", F.expr(\"st_astext(st_point(xmax,ymin))\"))\n",
    "        .withColumn(\"pnt_ne\", F.expr(\"st_astext(st_point(xmax,ymax))\"))\n",
    "        .withColumn(\n",
    "          \"width_meters\", \n",
    "          F.expr(\"st_geoglength(st_astext(st_makeline(array( st_geomfromtext(pnt_sw), st_geomfromtext(pnt_se) ))))\")\n",
    "        )\n",
    "        .withColumn(\n",
    "          \"height_meters\", \n",
    "          F.expr(\"st_geoglength(st_astext(st_makeline(array( st_geomfromtext(pnt_sw), st_geomfromtext(pnt_nw) ))))\")\n",
    "        )\n",
    "        .withColumn(\n",
    "          \"max_meters\", \n",
    "          F\n",
    "            .when(F.expr(\"width_meters >= height_meters\"), F.col(\"width_meters\"))\n",
    "            .otherwise(F.col(\"height_meters\"))\n",
    "        )\n",
    "        # - zoom\n",
    "        # https://wiki.openstreetmap.org/wiki/Slippy_map_tilenames#Resolution_and_Scale\n",
    "        # 1cm = ~.4in\n",
    "        # assume 16cm = ~6in (height of viewport)\n",
    "        # but mapbox tiles are 512px instead of 256px, so divide by 2 [h=8 tiles]\n",
    "        .withColumn(\n",
    "          \"zoom\",\n",
    "          F\n",
    "            .when(F.expr(\"max_meters < 21.2 * 8\"), F.lit(18))\n",
    "            .when(F.expr(\"max_meters < 42.3 * 8\"), F.lit(17))\n",
    "            .when(F.expr(\"max_meters < 84.6 * 8\"), F.lit(16))\n",
    "            .when(F.expr(\"max_meters < 169 * 8\"), F.lit(15))\n",
    "            .when(F.expr(\"max_meters < 339 * 8\"), F.lit(14))\n",
    "            .when(F.expr(\"max_meters < 677 * 8\"), F.lit(13))\n",
    "            .when(F.expr(\"max_meters < 1.35 * 1000 * 8\"), F.lit(12))\n",
    "            .when(F.expr(\"max_meters < 2.7  * 1000 * 8\"), F.lit(11))\n",
    "            .when(F.expr(\"max_meters < 5.4  * 1000 * 8\"), F.lit(10))\n",
    "            .when(F.expr(\"max_meters < 10.8 * 1000 * 8\"), F.lit(9))\n",
    "            .when(F.expr(\"max_meters < 21.7 * 1000 * 8\"), F.lit(8))\n",
    "            .when(F.expr(\"max_meters < 43.3 * 1000 * 8\"), F.lit(7))\n",
    "            .when(F.expr(\"max_meters < 86.7 * 1000 * 8\"), F.lit(6))\n",
    "            .when(F.expr(\"max_meters < 173  * 1000 * 8\"), F.lit(5))\n",
    "            .when(F.expr(\"max_meters < 347  * 1000 * 8\"), F.lit(4))\n",
    "            .when(F.expr(\"max_meters < 693  * 1000 * 8\"), F.lit(3))\n",
    "            .when(F.expr(\"max_meters < 1387 * 1000 * 8\"), F.lit(2))\n",
    "            .when(F.expr(\"max_meters < 2773 * 1000 * 8\"), F.lit(1))\n",
    "            .otherwise(F.lit(0))\n",
    "        )\n",
    "    ).first().asDict()\n",
    "\n",
    "    (debug_level > 0) and print(d,\"\\n\")\n",
    "    return ZoomInfo(d['centroid_x'], d['centroid_y'], d['zoom'])\n",
    "\n",
    "\n",
    "  def map_render_dfMapItems(*dfMapItems:List[DFMapItem], \n",
    "               override_ZoomInfo:ZoomInfo=None,\n",
    "               kepler_map_style:str='dark',\n",
    "               debug_level:int=0) ->None:\n",
    "    \"\"\"\n",
    "    Calls `display_kepler` using conventions.\n",
    "    - Calculates center lat/lon and zoom level [based on first layer passed], \n",
    "      if override ZoomInfo not specified\n",
    "    - Renders one or more passed Spark DFMapItems,\n",
    "      each will be a separate layer\n",
    "    - Must specify render col and RENDER_TYPE\n",
    "    - Can use specified layer name in DFMapItem;\n",
    "      otherwise, will be generated\n",
    "    - Can specify a render sample limit in DFMapItem\n",
    "    - Can specify a zoom calc sample limit in DFMapItem;\n",
    "      otherwise it will be all\n",
    "    \"\"\"\n",
    "\n",
    "    layers = {}\n",
    "    zoomInfo = default_ZoomInfo\n",
    "\n",
    "    for layer_num, dfMapItem in enumerate(dfMapItems):\n",
    "      # - zoom info [first layer]\n",
    "      if layer_num == 0:\n",
    "       zoomInfo = calc_ZoomInfo(dfMapItem, debug_level=debug_level)\n",
    "\n",
    "      # - layer name\n",
    "      layer_name = dfMapItem.layer_name\n",
    "      if layer_name is None:\n",
    "        layer_name = f\"layer_{layer_num}\"\n",
    "\n",
    "      # - data\n",
    "      if dfMapItem.render_type in [RENDER_TYPE.GEOMETRY]:\n",
    "        # handle binary serialization\n",
    "        geo_format = dfMapItem.geo_format\n",
    "        if geo_format is not None and geo_format in [GEO_FORMAT.WKB, GEO_FORMAT.EWKB]:\n",
    "          layers[layer_name] = (\n",
    "            dfMapItem\n",
    "              .df\n",
    "                .drop(*dfMapItem.exclude_cols)\n",
    "              .toPandas()\n",
    "                .to_csv(None, index=False)\n",
    "          )\n",
    "        else:\n",
    "          layers[layer_name] = (\n",
    "            dfMapItem\n",
    "              .df\n",
    "                .drop(*dfMapItem.exclude_cols)\n",
    "              .toPandas()\n",
    "          )\n",
    "      elif dfMapItem.render_type in [RENDER_TYPE.H3_STR]:\n",
    "          layers[layer_name] = (\n",
    "            dfMapItem\n",
    "              .df\n",
    "                .drop(*dfMapItem.exclude_cols)\n",
    "              .toPandas()\n",
    "          )\n",
    "      elif dfMapItem.render_type == RENDER_TYPE.H3_INT:\n",
    "        layers[layer_name] = (\n",
    "          dfMapItem\n",
    "            .df\n",
    "              .selectExpr(\n",
    "                f\"h3_h3tostring({dfMapItem.render_col}) as {dfMapItem.render_col}\", \n",
    "                f\"* except({dfMapItem.render_col})\"\n",
    "              )\n",
    "              .drop(*dfMapItem.exclude_cols)\n",
    "            .toPandas()\n",
    "        )\n",
    "      \n",
    "    return display_kepler(\n",
    "      KeplerGl(\n",
    "        config={ \n",
    "          'version': 'v1', \n",
    "          'mapState': {\n",
    "            'longitude': zoomInfo.map_x, \n",
    "            'latitude': zoomInfo.map_y, \n",
    "            'zoom': zoomInfo.map_zoom\n",
    "          }, \n",
    "          'mapStyle': {'styleType': kepler_map_style},\n",
    "          'options': {'readOnly': False, 'centerMap': True}\n",
    "        },\n",
    "        data=layers,\n",
    "        show_docs=False,\n",
    "      )\n",
    "    )\n",
    "\n",
    "\n",
    "  def map_render(df:DataFrame, geom_col:str, geo_format:GEO_FORMAT=None, exclude_cols:list=[], override_ZoomInfo:ZoomInfo=None, kepler_map_style='dark', debug_level:int=0)   ->None:\n",
    "    \"\"\"\n",
    "    Render a Spark Dataframe, using geometry col for center and zoom,\n",
    "    if overrides not specified. \n",
    "    \"\"\"\n",
    "    map_render_dfMapItems(DFMapItem(df, geom_col, RENDER_TYPE.GEOMETRY, geo_format=geo_format, exclude_cols=exclude_cols), \n",
    "               override_ZoomInfo=override_ZoomInfo, \n",
    "               kepler_map_style=kepler_map_style,\n",
    "               debug_level=debug_level)\n",
    "\n",
    "  print(\"---\")\n",
    "  print(\"def map_render(df:DataFrame, geom_col:str)\")\n",
    "  print(\"def map_render_dfMapItems(*dfMapItems:List[DFMapItem])\")\n",
    "\n",
    "except Exception:\n",
    "  print(\"... `map_render` functions not available.\")\n",
    "  pass"
   ]
  },
  {
   "cell_type": "code",
   "execution_count": 0,
   "metadata": {
    "application/vnd.databricks.v1+cell": {
     "cellMetadata": {
      "byteLimit": 2048000,
      "rowLimit": 10000
     },
     "inputWidgets": {},
     "nuid": "23ac66c9-c349-4a91-8b24-31dfe291ef71",
     "showTitle": false,
     "tableResultSettingsMap": {},
     "title": ""
    }
   },
   "outputs": [],
   "source": [
    "catalog = dbutils.widgets.get(\"catalog\")\n",
    "database = dbutils.widgets.get(\"database\")\n",
    "volume = dbutils.widgets.get(\"volume\")"
   ]
  },
  {
   "cell_type": "code",
   "execution_count": 0,
   "metadata": {
    "application/vnd.databricks.v1+cell": {
     "cellMetadata": {
      "byteLimit": 2048000,
      "rowLimit": 10000
     },
     "inputWidgets": {},
     "nuid": "b17c035e-553e-45e6-abf2-d7a40ed20b8c",
     "showTitle": false,
     "tableResultSettingsMap": {},
     "title": ""
    }
   },
   "outputs": [],
   "source": [
    "# -- import databricks + spark functions\n",
    "from pyspark.sql import functions as F\n",
    "from pyspark.sql.types import *\n",
    "\n",
    "\n",
    "# --other imports\n",
    "import os\n",
    "import pathlib\n",
    "import requests\n",
    "import warnings\n",
    "\n",
    "warnings.simplefilter(\"ignore\")"
   ]
  },
  {
   "cell_type": "markdown",
   "metadata": {
    "application/vnd.databricks.v1+cell": {
     "cellMetadata": {},
     "inputWidgets": {},
     "nuid": "af95ac8e-339d-456c-94af-bd501b7bc324",
     "showTitle": false,
     "tableResultSettingsMap": {},
     "title": ""
    }
   },
   "source": [
    "### Perform radial search"
   ]
  },
  {
   "cell_type": "code",
   "execution_count": 0,
   "metadata": {
    "application/vnd.databricks.v1+cell": {
     "cellMetadata": {
      "byteLimit": 2048000,
      "implicitDf": true,
      "rowLimit": 10000
     },
     "inputWidgets": {},
     "nuid": "f2d90e85-e551-4db7-b732-93d9b133d2b0",
     "showTitle": false,
     "tableResultSettingsMap": {},
     "title": ""
    }
   },
   "outputs": [],
   "source": [
    "%sql\n",
    "SELECT * FROM ${catalog}.${database}.ufo_sightings\n",
    "WHERE st_intersects(st_buffer(st_geomfromtext(geometry), 0.3), st_point(-97, 29))\n",
    "LIMIT 10"
   ]
  },
  {
   "cell_type": "markdown",
   "metadata": {
    "application/vnd.databricks.v1+cell": {
     "cellMetadata": {},
     "inputWidgets": {},
     "nuid": "1aa246ec-4cd1-45a4-92a1-3f4d3bcdf456",
     "showTitle": false,
     "tableResultSettingsMap": {},
     "title": ""
    }
   },
   "source": [
    "## Join Airport\n",
    "### Use H3 parent cell for Spatial join"
   ]
  },
  {
   "cell_type": "code",
   "execution_count": 0,
   "metadata": {
    "application/vnd.databricks.v1+cell": {
     "cellMetadata": {
      "byteLimit": 2048000,
      "rowLimit": 10000
     },
     "inputWidgets": {},
     "nuid": "31abb32b-3e7e-48e6-a934-a041dd6fa430",
     "showTitle": false,
     "tableResultSettingsMap": {},
     "title": ""
    }
   },
   "outputs": [],
   "source": [
    "from pyspark.sql.functions import col, expr, row_number\n",
    "from pyspark.sql.window import Window\n",
    "\n",
    "ufo_sightings_df = spark.read.table(f\"{catalog}.{database}.ufo_sightings\")\n",
    "airports_df = spark.read.table(f\"{catalog}.{database}.airports\")\n",
    "\n",
    "search_radius_km = 10000  # Example: 5 km radius\n",
    "\n",
    "# Ensure both DataFrames have H3 cell IDs\n",
    "ufo_sightings_df = ufo_sightings_df.withColumn(\"h3_ufo\", expr(\"H3_POINTASH3(geometry, 9)\")) \\\n",
    "  .withColumn(\"h3_res6_cell_id\", expr(\"H3_POINTASH3(geometry, 6)\")) \\\n",
    "  .withColumn(\"ufo_parent\", expr(\"H3_TOPARENT(h3_ufo, 5)\")).alias(\"ufo\")\n",
    "airports_df = airports_df.withColumnRenamed(\"id\", \"airport_id\") \\\n",
    "  .withColumn(\"h3_airport\", expr(\"H3_POINTASH3(geometry, 9)\")) \\\n",
    "  .withColumn(\"airport_parent\", expr(\"H3_TOPARENT(h3_airport, 5)\")).alias(\"airports\")\n",
    "\n",
    "joined_df = ufo_sightings_df \\\n",
    "  .join(airports_df, expr(f\"ufo_parent == airport_parent AND st_distancesphere(ufo.geometry, airports.geometry) <= {search_radius_km}\"), \"left\") \\\n",
    "  .withColumn(\"distance_airport\", expr(\"st_distancesphere(ufo.geometry, airports.geometry)\")) \\\n",
    "  .withColumn(\"line_string\", expr(\"st_astext(st_makeline(array(st_setsrid(st_geomfromtext(ufo.geometry), 4326), st_geomfromgeojson(airports.geometry))))\"))"
   ]
  },
  {
   "cell_type": "code",
   "execution_count": 0,
   "metadata": {
    "application/vnd.databricks.v1+cell": {
     "cellMetadata": {
      "byteLimit": 2048000,
      "rowLimit": 10000
     },
     "inputWidgets": {},
     "nuid": "75ce60c7-6ce9-468f-87bc-fa03a54dd4e6",
     "showTitle": false,
     "tableResultSettingsMap": {},
     "title": ""
    }
   },
   "outputs": [],
   "source": [
    "joined_df.where(\"city = 'dallas'\").display()"
   ]
  },
  {
   "cell_type": "code",
   "execution_count": 0,
   "metadata": {
    "application/vnd.databricks.v1+cell": {
     "cellMetadata": {
      "byteLimit": 2048000,
      "rowLimit": 10000
     },
     "inputWidgets": {},
     "nuid": "8d290caa-045a-4700-b2c1-7be0320cfedc",
     "showTitle": false,
     "tableResultSettingsMap": {},
     "title": ""
    }
   },
   "outputs": [],
   "source": [
    "map_render_dfMapItems(\n",
    "      DFMapItem(joined_df.where(\"city = 'dallas'\").select(F.expr(\"h3_h3tostring(h3_airport) as h3_airport\"), F.expr(\"h3_h3tostring(h3_ufo) as h3_ufo\"), F.expr(\"h3_h3tostring(airport_parent) as airport_parent\"), F.expr(\"h3_h3tostring(ufo_parent) as ufo_parent\"), \"name\", F.expr(\"ufo.geometry as ufo_geometry\"), F.expr(\"airports.geometry as airport_geometry\"), \"line_string\"), \"h3_airport\", RENDER_TYPE.H3_STR, exclude_cols=[])\n",
    ")"
   ]
  },
  {
   "cell_type": "code",
   "execution_count": 0,
   "metadata": {
    "application/vnd.databricks.v1+cell": {
     "cellMetadata": {
      "byteLimit": 2048000,
      "rowLimit": 10000
     },
     "inputWidgets": {},
     "nuid": "529e0d39-93cd-469a-997b-488381400f8f",
     "showTitle": false,
     "tableResultSettingsMap": {},
     "title": ""
    }
   },
   "outputs": [],
   "source": [
    "map_render_dfMapItems(\n",
    "  DFMapItem(joined_df.limit(1000).select(F.expr(\"h3_h3tostring(h3_ufo) as ufo_h3\"), \"ufo.geometry\"), \"ufo_h3\", RENDER_TYPE.H3_STR, exclude_cols=[]),\n",
    "    DFMapItem(joined_df.limit(1000).select(F.expr(\"h3_h3tostring(ufo_parent) as ufo_parent\")), \"ufo_parent\", RENDER_TYPE.H3_STR, exclude_cols=[]),\n",
    "      DFMapItem(joined_df.limit(1000).select(F.expr(\"h3_h3tostring(h3_airport) as h3_airport\"), \"name\", \"airports.geometry\", \"line_string\"), \"h3_airport\", RENDER_TYPE.H3_STR, exclude_cols=[]),\n",
    "      DFMapItem(joined_df.limit(1000).select(F.expr(\"h3_h3tostring(airport_parent) as airport_parent\")), \"airport_parent\", RENDER_TYPE.H3_STR, exclude_cols=[])\n",
    ")"
   ]
  },
  {
   "cell_type": "code",
   "execution_count": 0,
   "metadata": {
    "application/vnd.databricks.v1+cell": {
     "cellMetadata": {
      "byteLimit": 2048000,
      "rowLimit": 10000
     },
     "inputWidgets": {},
     "nuid": "41c865e1-79ad-40ab-88b2-013d51e77ad4",
     "showTitle": false,
     "tableResultSettingsMap": {},
     "title": ""
    }
   },
   "outputs": [],
   "source": [
    "from pyspark.sql.functions import col, expr, row_number, when\n",
    "from pyspark.sql.window import Window\n",
    "\n",
    "# Window specification to get the closest airport\n",
    "window_spec = Window.partitionBy(\"id\").orderBy(col(\"distance_airport\"))\n",
    "\n",
    "# Add row number to each row within the window\n",
    "ranked_df = joined_df.withColumn(\"row_number\", row_number().over(window_spec))\n",
    "\n",
    "# Filter to keep only the closest airport\n",
    "filtered_ufo_sightings_df = ranked_df.filter(col(\"row_number\") == 1).drop(\"row_number\", \"properties\")\n",
    "\n",
    "filtered_ufo_sightings_df = filtered_ufo_sightings_df.select(\"ufo.*\", \"airport_id\").withColumn(\n",
    "    \"airport_closed_by\",\n",
    "    when(col(\"airport_id\").isNotNull(), True).otherwise(False)\n",
    ")"
   ]
  },
  {
   "cell_type": "code",
   "execution_count": 0,
   "metadata": {
    "application/vnd.databricks.v1+cell": {
     "cellMetadata": {
      "byteLimit": 2048000,
      "rowLimit": 10000
     },
     "inputWidgets": {},
     "nuid": "4019d76e-6afa-4118-a8d3-d252cdf26393",
     "showTitle": false,
     "tableResultSettingsMap": {},
     "title": ""
    }
   },
   "outputs": [],
   "source": [
    "filtered_ufo_sightings_df.display()"
   ]
  },
  {
   "cell_type": "markdown",
   "metadata": {
    "application/vnd.databricks.v1+cell": {
     "cellMetadata": {},
     "inputWidgets": {},
     "nuid": "9b261fad-4502-4345-aba4-a141acbdce3a",
     "showTitle": false,
     "tableResultSettingsMap": {},
     "title": ""
    }
   },
   "source": [
    "## Join with major cities (rural vs urban settings)"
   ]
  },
  {
   "cell_type": "code",
   "execution_count": 0,
   "metadata": {
    "application/vnd.databricks.v1+cell": {
     "cellMetadata": {
      "byteLimit": 2048000,
      "rowLimit": 10000
     },
     "inputWidgets": {},
     "nuid": "693500ae-0523-4abb-abd1-19cc9b97faf8",
     "showTitle": false,
     "tableResultSettingsMap": {},
     "title": ""
    }
   },
   "outputs": [],
   "source": [
    "\n",
    "cities_df = spark.read.table(f\"{catalog}.{database}.major_cities\")\n",
    "\n",
    "search_radius_km = 100  # Example: 5 km radius\n",
    "\n",
    "# Ensure both DataFrames have H3 cell IDs\n",
    "cities_df = cities_df.withColumnRenamed(\"id\", \"city_id\") \\\n",
    "  .withColumn(\"h3_city\", expr(\"H3_POINTASH3(geometry, 9)\")) \\\n",
    "  .withColumn(\"city_parent\", expr(\"H3_TOPARENT(h3_city, 5)\")).alias(\"cities\")\n",
    "\n",
    "joined_df = filtered_ufo_sightings_df \\\n",
    "  .join(cities_df, expr(f\"ufo_parent == city_parent AND st_distance(ufo.geometry, cities.geometry) <= {search_radius_km}\"), \"left\") \\\n",
    "  .withColumn(\"distance_city\", expr(\"st_distance(ufo.geometry, cities.geometry)\"))"
   ]
  },
  {
   "cell_type": "code",
   "execution_count": 0,
   "metadata": {
    "application/vnd.databricks.v1+cell": {
     "cellMetadata": {
      "byteLimit": 2048000,
      "rowLimit": 10000
     },
     "inputWidgets": {},
     "nuid": "d81dbc84-1156-4569-a44f-9a56d76132e6",
     "showTitle": false,
     "tableResultSettingsMap": {},
     "title": ""
    }
   },
   "outputs": [],
   "source": [
    "# Window specification to get the closest airport\n",
    "window_spec = Window.partitionBy(\"id\").orderBy(col(\"distance_city\"))\n",
    "\n",
    "# Add row number to each row within the window\n",
    "ranked_df = joined_df.withColumn(\"row_number\", row_number().over(window_spec))\n",
    "\n",
    "# Filter to keep only the closest airport\n",
    "filtered_ufo_sightings_df = ranked_df.filter(col(\"row_number\") == 1).drop(\"row_number\", \"properties\")\n",
    "\n",
    "filtered_ufo_sightings_df = filtered_ufo_sightings_df.select(\"ufo.*\", \"airport_id\", \"airport_closed_by\", \"city_id\").withColumn(\n",
    "    \"urban\",\n",
    "    when(col(\"city_id\").isNotNull(), True).otherwise(False)\n",
    ")"
   ]
  },
  {
   "cell_type": "code",
   "execution_count": 0,
   "metadata": {
    "application/vnd.databricks.v1+cell": {
     "cellMetadata": {
      "byteLimit": 2048000,
      "rowLimit": 10000
     },
     "inputWidgets": {},
     "nuid": "32d89deb-dbfb-4d40-ab59-80d74a1ca76b",
     "showTitle": false,
     "tableResultSettingsMap": {},
     "title": ""
    }
   },
   "outputs": [],
   "source": [
    "filtered_ufo_sightings_df.display()"
   ]
  },
  {
   "cell_type": "code",
   "execution_count": 0,
   "metadata": {
    "application/vnd.databricks.v1+cell": {
     "cellMetadata": {
      "byteLimit": 2048000,
      "rowLimit": 10000
     },
     "inputWidgets": {},
     "nuid": "737cfdad-ba15-4795-9505-95f476ed9242",
     "showTitle": false,
     "tableResultSettingsMap": {},
     "title": ""
    }
   },
   "outputs": [],
   "source": [
    "map_render_dfMapItems(\n",
    "  DFMapItem(filtered_ufo_sightings_df.limit(1000).select(F.expr(\"h3_h3tostring(h3_ufo) as ufo_h3\")), \"ufo_h3\", RENDER_TYPE.H3_STR, exclude_cols=[]),\n",
    "    DFMapItem(filtered_ufo_sightings_df.limit(1000).select(F.expr(\"h3_h3tostring(ufo_parent) as ufo_parent\")), \"ufo_parent\", RENDER_TYPE.H3_STR, exclude_cols=[])\n",
    ")"
   ]
  },
  {
   "cell_type": "markdown",
   "metadata": {
    "application/vnd.databricks.v1+cell": {
     "cellMetadata": {},
     "inputWidgets": {},
     "nuid": "b8a46ad2-6d2c-4ba5-83f3-71bcf4ada50e",
     "showTitle": false,
     "tableResultSettingsMap": {},
     "title": ""
    }
   },
   "source": [
    "## Spatial Join on counties in SQL\n",
    "\n",
    "Use same coarse resolution for display"
   ]
  },
  {
   "cell_type": "code",
   "execution_count": 0,
   "metadata": {
    "application/vnd.databricks.v1+cell": {
     "cellMetadata": {
      "byteLimit": 2048000,
      "implicitDf": true,
      "rowLimit": 10000
     },
     "inputWidgets": {},
     "nuid": "a7dc2c50-8720-4e55-b5f5-f92b8daf8b22",
     "showTitle": false,
     "tableResultSettingsMap": {},
     "title": ""
    }
   },
   "outputs": [],
   "source": [
    "%sql\n",
    "CREATE OR REPLACE TEMPORARY VIEW valid_counties AS\n",
    "  SELECT\n",
    "    *\n",
    "  FROM ${catalog}.${database}.counties\n",
    "  WHERE ST_IsValid(geometry);\n",
    "\n",
    "CREATE OR REPLACE TEMPORARY VIEW h3_tessellation AS\n",
    "  SELECT\n",
    "    *,\n",
    "    EXPLODE(H3_TESSELLATEASWKB(geometry, 6)) AS h3\n",
    "  FROM valid_counties;\n",
    "\n",
    "SELECT count(*) FROM h3_tessellation;"
   ]
  },
  {
   "cell_type": "code",
   "execution_count": 0,
   "metadata": {
    "application/vnd.databricks.v1+cell": {
     "cellMetadata": {
      "byteLimit": 2048000,
      "rowLimit": 10000
     },
     "inputWidgets": {},
     "nuid": "1e07d9e3-d194-4f4a-b46b-d28cc94d94c7",
     "showTitle": false,
     "tableResultSettingsMap": {},
     "title": ""
    }
   },
   "outputs": [],
   "source": [
    "spark.table(\"h3_tessellation\").selectExpr(\"ST_ASTEXT(ST_GEOMFROMWKB(h3.chip)) as chip\", \"county\", \"population\").where(\"state == 'TX'\").display()"
   ]
  },
  {
   "cell_type": "code",
   "execution_count": 0,
   "metadata": {
    "application/vnd.databricks.v1+cell": {
     "cellMetadata": {
      "byteLimit": 2048000,
      "rowLimit": 10000
     },
     "inputWidgets": {},
     "nuid": "e561a088-5cbf-48b2-b71a-61db03247254",
     "showTitle": false,
     "tableResultSettingsMap": {},
     "title": ""
    }
   },
   "outputs": [],
   "source": [
    "map_render(spark.table(\"h3_tessellation\").selectExpr(\"ST_ASTEXT(ST_GEOMFROMWKB(h3.chip)) as chip\", \"county\", \"population\").where(\"state == 'TX'\"), \"chip\")"
   ]
  },
  {
   "cell_type": "markdown",
   "metadata": {
    "application/vnd.databricks.v1+cell": {
     "cellMetadata": {},
     "inputWidgets": {},
     "nuid": "c8bf4334-66c9-4118-aebe-89781329bc37",
     "showTitle": false,
     "tableResultSettingsMap": {},
     "title": ""
    }
   },
   "source": [
    "Use same H3 resolution than for UFO Sightings"
   ]
  },
  {
   "cell_type": "code",
   "execution_count": 0,
   "metadata": {
    "application/vnd.databricks.v1+cell": {
     "cellMetadata": {
      "byteLimit": 2048000,
      "implicitDf": true,
      "rowLimit": 10000
     },
     "inputWidgets": {},
     "nuid": "3697d9ef-1fee-4456-b564-8a4257eefbf8",
     "showTitle": false,
     "tableResultSettingsMap": {},
     "title": ""
    }
   },
   "outputs": [],
   "source": [
    "%sql\n",
    "CREATE OR REPLACE TEMPORARY VIEW valid_counties AS\n",
    "  SELECT\n",
    "    *\n",
    "  FROM ${catalog}.${database}.counties\n",
    "  WHERE ST_IsValid(geometry);\n",
    "\n",
    "CREATE OR REPLACE TEMPORARY VIEW h3_counties AS\n",
    "  SELECT\n",
    "    county, population, id as county_id,\n",
    "    EXPLODE(H3_TESSELLATEASWKB(geometry, 6)) AS h3\n",
    "  FROM valid_counties;\n",
    "\n",
    "SELECT * FROM h3_counties;"
   ]
  },
  {
   "cell_type": "code",
   "execution_count": 0,
   "metadata": {
    "application/vnd.databricks.v1+cell": {
     "cellMetadata": {
      "byteLimit": 2048000,
      "rowLimit": 10000
     },
     "inputWidgets": {},
     "nuid": "147c6b10-6b44-4ab1-8b93-5cc3745702fd",
     "showTitle": false,
     "tableResultSettingsMap": {},
     "title": ""
    }
   },
   "outputs": [],
   "source": [
    "filtered_ufo_sightings_df.createOrReplaceTempView(\"filtered_ufo_sightings\")"
   ]
  },
  {
   "cell_type": "code",
   "execution_count": 0,
   "metadata": {
    "application/vnd.databricks.v1+cell": {
     "cellMetadata": {
      "byteLimit": 2048000,
      "implicitDf": true,
      "rowLimit": 10000
     },
     "inputWidgets": {},
     "nuid": "7407e99d-e725-446f-b447-030a554fa6b4",
     "showTitle": false,
     "tableResultSettingsMap": {},
     "title": ""
    }
   },
   "outputs": [],
   "source": [
    "%sql\n",
    "\n",
    "CREATE OR REPLACE TABLE ${catalog}.${database}.enriched_ufo_sightings\n",
    "SELECT\n",
    "  id, datetime, shape, duration_seconds, comments, city, state, latitude, longitude, geometry, airport_id, airport_closed_by, urban, city_id, county, population, county_id, '' as reason\n",
    "FROM filtered_ufo_sightings u\n",
    "  INNER JOIN h3_counties c\n",
    "  ON u.h3_res6_cell_id = c.h3.cellid\n",
    "WHERE\n",
    "  c.h3.core OR ST_CONTAINS(c.h3.chip, u.geometry)"
   ]
  },
  {
   "cell_type": "code",
   "execution_count": 0,
   "metadata": {
    "application/vnd.databricks.v1+cell": {
     "cellMetadata": {
      "byteLimit": 2048000,
      "implicitDf": true,
      "rowLimit": 10000
     },
     "inputWidgets": {},
     "nuid": "32e21893-9a44-4ea3-8556-17e85dcccd0c",
     "showTitle": false,
     "tableResultSettingsMap": {},
     "title": ""
    }
   },
   "outputs": [],
   "source": [
    "%sql\n",
    "ALTER TABLE ${catalog}.${database}.enriched_ufo_sightings\n",
    "ADD CONSTRAINT fk_city_id\n",
    "FOREIGN KEY (city_id) REFERENCES ${catalog}.${database}.major_cities(id);\n",
    "\n",
    "ALTER TABLE ${catalog}.${database}.enriched_ufo_sightings\n",
    "ADD CONSTRAINT fk_airport_id\n",
    "FOREIGN KEY (airport_id) REFERENCES ${catalog}.${database}.airports(id);\n",
    "\n",
    "ALTER TABLE ${catalog}.${database}.enriched_ufo_sightings\n",
    "ADD CONSTRAINT fk_county_id\n",
    "FOREIGN KEY (county_id) REFERENCES ${catalog}.${database}.counties(id);"
   ]
  },
  {
   "cell_type": "markdown",
   "metadata": {
    "application/vnd.databricks.v1+cell": {
     "cellMetadata": {},
     "inputWidgets": {},
     "nuid": "d4698846-1ff9-49fa-b435-4a0bc90ac853",
     "showTitle": false,
     "tableResultSettingsMap": {},
     "title": ""
    }
   },
   "source": [
    "## Compute stats"
   ]
  },
  {
   "cell_type": "code",
   "execution_count": 0,
   "metadata": {
    "application/vnd.databricks.v1+cell": {
     "cellMetadata": {
      "byteLimit": 2048000,
      "implicitDf": true,
      "rowLimit": 10000
     },
     "inputWidgets": {},
     "nuid": "b3f3c442-87ba-4db4-9b05-7baae4e3db0a",
     "showTitle": false,
     "tableResultSettingsMap": {},
     "title": ""
    }
   },
   "outputs": [],
   "source": [
    "%sql\n",
    "SELECT \n",
    "  urban,\n",
    "  COUNT(*) AS count,\n",
    "  (COUNT(*) * 100.0 / SUM(COUNT(*)) OVER ()) AS percentage\n",
    "FROM ${catalog}.${database}.enriched_ufo_sightings\n",
    "GROUP BY urban;"
   ]
  },
  {
   "cell_type": "code",
   "execution_count": 0,
   "metadata": {
    "application/vnd.databricks.v1+cell": {
     "cellMetadata": {
      "byteLimit": 2048000,
      "implicitDf": true,
      "rowLimit": 10000
     },
     "inputWidgets": {},
     "nuid": "80b39137-a349-4ee1-8ec6-ce87407ec376",
     "showTitle": false,
     "tableResultSettingsMap": {},
     "title": ""
    }
   },
   "outputs": [],
   "source": [
    "%sql\n",
    "SELECT \n",
    "  airport_closed_by,\n",
    "  COUNT(*) AS count,\n",
    "  (COUNT(*) * 100.0 / SUM(COUNT(*)) OVER ()) AS percentage\n",
    "FROM ${catalog}.${database}.enriched_ufo_sightings\n",
    "GROUP BY airport_closed_by;"
   ]
  },
  {
   "cell_type": "markdown",
   "metadata": {
    "application/vnd.databricks.v1+cell": {
     "cellMetadata": {},
     "inputWidgets": {},
     "nuid": "78f7e2d8-8a21-430d-b141-c4cd76a46dec",
     "showTitle": false,
     "tableResultSettingsMap": {},
     "title": ""
    }
   },
   "source": [
    "## Detect clusters with hull"
   ]
  },
  {
   "cell_type": "code",
   "execution_count": 0,
   "metadata": {
    "application/vnd.databricks.v1+cell": {
     "cellMetadata": {
      "byteLimit": 2048000,
      "implicitDf": true,
      "rowLimit": 10000
     },
     "inputWidgets": {},
     "nuid": "7a5a8c58-1af8-4ea1-89e8-de4aa04807e9",
     "showTitle": false,
     "tableResultSettingsMap": {},
     "title": ""
    }
   },
   "outputs": [],
   "source": [
    "%sql\n",
    "CREATE OR REPLACE TEMPORARY VIEW sightings_hull AS (\n",
    "  SELECT \n",
    "    st_aswkt(st_convexhull(st_makeline(collect_list(ST_GeomFromText(geometry))))) AS g,\n",
    "    count(county) as total\n",
    "  FROM ${catalog}.${database}.enriched_ufo_sightings\n",
    "  GROUP BY county, state\n",
    ");\n",
    "\n",
    "SELECT * FROM sightings_hull\n",
    "WHERE g LIKE 'POLYGON%';"
   ]
  },
  {
   "cell_type": "code",
   "execution_count": 0,
   "metadata": {
    "application/vnd.databricks.v1+cell": {
     "cellMetadata": {
      "byteLimit": 2048000,
      "rowLimit": 10000
     },
     "inputWidgets": {},
     "nuid": "e425b536-a6e1-40df-bb59-57c2ab420b0a",
     "showTitle": false,
     "tableResultSettingsMap": {},
     "title": ""
    }
   },
   "outputs": [],
   "source": [
    "map_render(spark.table(\"sightings_hull\").filter(\"g LIKE 'POLYGON%'\"), \"g\")"
   ]
  },
  {
   "cell_type": "code",
   "execution_count": 0,
   "metadata": {
    "application/vnd.databricks.v1+cell": {
     "cellMetadata": {
      "byteLimit": 2048000,
      "rowLimit": 10000
     },
     "inputWidgets": {},
     "nuid": "9f29636b-c80e-47bb-a293-f0a818529afa",
     "showTitle": false,
     "tableResultSettingsMap": {},
     "title": ""
    }
   },
   "outputs": [],
   "source": [
    "map_render(spark.table(f\"{catalog}.{database}.enriched_ufo_sightings\"), \"geometry\")"
   ]
  },
  {
   "cell_type": "code",
   "execution_count": 0,
   "metadata": {
    "application/vnd.databricks.v1+cell": {
     "cellMetadata": {
      "byteLimit": 2048000,
      "implicitDf": true,
      "rowLimit": 10000
     },
     "inputWidgets": {},
     "nuid": "865ea220-9366-4cb7-ad1d-163f0e230b68",
     "showTitle": false,
     "tableResultSettingsMap": {},
     "title": ""
    }
   },
   "outputs": [],
   "source": [
    "%sql\n",
    "CREATE OR REPLACE TEMPORARY VIEW sightings_county AS (\n",
    "  SELECT \n",
    "    county_id,\n",
    "    count(county_id) as total\n",
    "  FROM ${catalog}.${database}.enriched_ufo_sightings\n",
    "  GROUP BY county_id\n",
    ");\n",
    "\n",
    "SELECT * FROM sightings_county s\n",
    " JOIN ${catalog}.${database}.counties c ON c.id = s.county_id;"
   ]
  },
  {
   "cell_type": "code",
   "execution_count": 0,
   "metadata": {
    "application/vnd.databricks.v1+cell": {
     "cellMetadata": {
      "byteLimit": 2048000,
      "rowLimit": 10000
     },
     "inputWidgets": {},
     "nuid": "0853c934-7538-4a2b-8e6e-b6e019b38a18",
     "showTitle": false,
     "tableResultSettingsMap": {},
     "title": ""
    }
   },
   "outputs": [],
   "source": [
    "map_render(spark.sql(f\"SELECT * FROM sightings_county s JOIN {catalog}.{database}.counties c ON c.id = s.county_id\"), \"geometry\")"
   ]
  },
  {
   "cell_type": "markdown",
   "metadata": {
    "application/vnd.databricks.v1+cell": {
     "cellMetadata": {},
     "inputWidgets": {},
     "nuid": "576a2e68-dcad-4510-9cb1-79053a5c1353",
     "showTitle": false,
     "tableResultSettingsMap": {},
     "title": ""
    }
   },
   "source": [
    "## Use GenAI to come up with possible explanations"
   ]
  },
  {
   "cell_type": "code",
   "execution_count": 0,
   "metadata": {
    "application/vnd.databricks.v1+cell": {
     "cellMetadata": {
      "byteLimit": 2048000,
      "implicitDf": true,
      "rowLimit": 10000
     },
     "inputWidgets": {},
     "nuid": "a821ab58-2c83-49ce-9374-caf730e50500",
     "showTitle": false,
     "tableResultSettingsMap": {},
     "title": ""
    }
   },
   "outputs": [],
   "source": [
    "%sql\n",
    "CREATE OR REPLACE FUNCTION explain_ufo(description STRING, location STRING, datetime STRING)\n",
    "  RETURNS STRING\n",
    "  RETURN ai_query(\n",
    "    'databricks-claude-3-7-sonnet',\n",
    "    \"can you explain what would be the best explanation for this ufo sightseeing: \" || description || \" that happened at \" || datetime || \" at \" || location);\n",
    "\n",
    "SELECT explain_ufo(\"silent red /orange mass of energy floated by three of us \", \"10/10/1998 20:30\", \"nyc/westchester area\");"
   ]
  },
  {
   "cell_type": "code",
   "execution_count": 0,
   "metadata": {
    "application/vnd.databricks.v1+cell": {
     "cellMetadata": {
      "byteLimit": 2048000,
      "implicitDf": true,
      "rowLimit": 10000
     },
     "inputWidgets": {},
     "nuid": "f4614042-dab1-4b33-8a64-fffadeb39831",
     "showTitle": false,
     "tableResultSettingsMap": {},
     "title": ""
    }
   },
   "outputs": [],
   "source": [
    "%sql\n",
    "-- Create a temporary view with the updated values\n",
    "CREATE OR REPLACE TEMP VIEW updated_ufo_sightings AS\n",
    "SELECT *,\n",
    "       explain_ufo(comments, datetime, city || ' ' || state) AS new_reason\n",
    "FROM ${catalog}.${database}.enriched_ufo_sightings;\n",
    "\n",
    "-- Perform the update using the MERGE statement\n",
    "MERGE INTO ${catalog}.${database}.enriched_ufo_sightings AS target\n",
    "USING updated_ufo_sightings AS source\n",
    "ON target.id = source.id\n",
    "WHEN MATCHED THEN\n",
    "  UPDATE SET target.reason = source.new_reason;"
   ]
  },
  {
   "cell_type": "code",
   "execution_count": 0,
   "metadata": {
    "application/vnd.databricks.v1+cell": {
     "cellMetadata": {
      "byteLimit": 2048000,
      "implicitDf": true,
      "rowLimit": 10000
     },
     "inputWidgets": {},
     "nuid": "170aad72-f325-4ab5-8c90-b7b8cb2acabb",
     "showTitle": false,
     "tableResultSettingsMap": {},
     "title": ""
    }
   },
   "outputs": [],
   "source": [
    "%sql\n",
    "SELECT *,\n",
    "       explain_ufo(comments, datetime, city || ' ' || state) AS new_reason\n",
    "FROM ${catalog}.${database}.enriched_ufo_sightings\n",
    "LIMIT 10"
   ]
  },
  {
   "cell_type": "code",
   "execution_count": 0,
   "metadata": {
    "application/vnd.databricks.v1+cell": {
     "cellMetadata": {
      "byteLimit": 2048000,
      "implicitDf": true,
      "rowLimit": 10000
     },
     "inputWidgets": {},
     "nuid": "1f5f5e63-3176-49cb-ae3e-47ca56097d6e",
     "showTitle": false,
     "tableResultSettingsMap": {},
     "title": ""
    }
   },
   "outputs": [],
   "source": [
    "%sql\n",
    "WITH text AS (\n",
    "  SELECT \"silent red /orange mass of energy floated by three of us in western North Carolina in the 60s\" AS description\n",
    ")\n",
    "SELECT *,\n",
    "  ai_query(\n",
    "    'komae-openai-gpt-4-5',\n",
    "    \"can you explain what would be the best explanation for this ufo sightseeing: \" || description\n",
    "  )\n",
    "FROM text;"
   ]
  },
  {
   "cell_type": "code",
   "execution_count": 0,
   "metadata": {
    "application/vnd.databricks.v1+cell": {
     "cellMetadata": {
      "byteLimit": 2048000,
      "implicitDf": true,
      "rowLimit": 10000
     },
     "inputWidgets": {},
     "nuid": "c1ca9de0-5f7f-4e88-ad7b-4a72c19d0e1b",
     "showTitle": false,
     "tableResultSettingsMap": {},
     "title": ""
    }
   },
   "outputs": [],
   "source": [
    "%sql\n",
    "WITH text AS (\n",
    "  SELECT \"silent red /orange mass of energy floated by three of us in western North Carolina in the 60s\" AS description\n",
    ")\n",
    "SELECT *,\n",
    "  ai_query(\n",
    "    'databricks-llama-4-maverick',\n",
    "    \"can you explain what would be the best explanation for this ufo sightseeing: \" || description\n",
    "  )\n",
    "FROM text;"
   ]
  },
  {
   "cell_type": "code",
   "execution_count": 0,
   "metadata": {
    "application/vnd.databricks.v1+cell": {
     "cellMetadata": {
      "byteLimit": 2048000,
      "implicitDf": true,
      "rowLimit": 10000
     },
     "inputWidgets": {},
     "nuid": "5688b51e-2b00-491d-90df-9ccd8654ccb9",
     "showTitle": false,
     "tableResultSettingsMap": {},
     "title": ""
    }
   },
   "outputs": [],
   "source": [
    "%sql\n",
    "WITH text AS (\n",
    "  SELECT \"silent red /orange mass of energy floated by three of us in western North Carolina in the 60s\" AS description\n",
    ")\n",
    "SELECT *,\n",
    "  ai_query(\n",
    "    'databricks-claude-3-7-sonnet',\n",
    "    \"can you explain what would be the best explanation for this ufo sightseeing: \" || description\n",
    "  )\n",
    "FROM text;"
   ]
  }
 ],
 "metadata": {
  "application/vnd.databricks.v1+notebook": {
   "computePreferences": null,
   "dashboards": [],
   "environmentMetadata": {
    "base_environment": "",
    "environment_version": "2"
   },
   "inputWidgetPreferences": null,
   "language": "python",
   "notebookMetadata": {
    "mostRecentlyExecutedCommandWithImplicitDF": {
     "commandId": 3656236635284711,
     "dataframes": [
      "_sqldf"
     ]
    },
    "pythonIndentUnit": 2
   },
   "notebookName": "02 - Spatial analysis",
   "widgets": {
    "catalog": {
     "currentValue": "mpelletier",
     "nuid": "2f64d5dc-227b-45c9-ae2a-21f04b1e0c8c",
     "typedWidgetInfo": {
      "autoCreated": false,
      "defaultValue": "mpelletier",
      "label": null,
      "name": "catalog",
      "options": {
       "widgetDisplayType": "Text",
       "validationRegex": null
      },
      "parameterDataType": "String"
     },
     "widgetInfo": {
      "widgetType": "text",
      "defaultValue": "mpelletier",
      "label": null,
      "name": "catalog",
      "options": {
       "widgetType": "text",
       "autoCreated": null,
       "validationRegex": null
      }
     }
    },
    "database": {
     "currentValue": "summit",
     "nuid": "4242b126-7be6-4187-8cbf-d940b6f5f786",
     "typedWidgetInfo": {
      "autoCreated": false,
      "defaultValue": "summit",
      "label": null,
      "name": "database",
      "options": {
       "widgetDisplayType": "Text",
       "validationRegex": null
      },
      "parameterDataType": "String"
     },
     "widgetInfo": {
      "widgetType": "text",
      "defaultValue": "summit",
      "label": null,
      "name": "database",
      "options": {
       "widgetType": "text",
       "autoCreated": null,
       "validationRegex": null
      }
     }
    },
    "volume": {
     "currentValue": "input",
     "nuid": "8c8e89a8-737d-4bef-b990-1ad58f1440e7",
     "typedWidgetInfo": {
      "autoCreated": false,
      "defaultValue": "input",
      "label": null,
      "name": "volume",
      "options": {
       "widgetDisplayType": "Text",
       "validationRegex": null
      },
      "parameterDataType": "String"
     },
     "widgetInfo": {
      "widgetType": "text",
      "defaultValue": "input",
      "label": null,
      "name": "volume",
      "options": {
       "widgetType": "text",
       "autoCreated": null,
       "validationRegex": null
      }
     }
    }
   }
  },
  "language_info": {
   "name": "python"
  }
 },
 "nbformat": 4,
 "nbformat_minor": 0
}
