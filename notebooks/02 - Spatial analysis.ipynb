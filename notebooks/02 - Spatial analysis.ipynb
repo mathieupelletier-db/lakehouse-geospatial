{
 "cells": [
  {
   "cell_type": "code",
   "execution_count": 0,
   "metadata": {
    "application/vnd.databricks.v1+cell": {
     "cellMetadata": {
      "byteLimit": 2048000,
      "implicitDf": true,
      "rowLimit": 10000
     },
     "inputWidgets": {},
     "nuid": "a821ab58-2c83-49ce-9374-caf730e50500",
     "showTitle": false,
     "tableResultSettingsMap": {},
     "title": ""
    }
   },
   "outputs": [],
   "source": [
    "%sql\n",
    " CREATE OR REPLACE FUNCTION explain_ufo(description STRING, location STRING, datetime STRING)\n",
    "  RETURNS STRING\n",
    "  RETURN ai_query(\n",
    "    'databricks-llama-4-maverick',\n",
    "    \"can you explain what would be the best explanation for this ufo sightseeing: \" || description);\n",
    "\n",
    "-- GRANT EXECUTE ON correct_grammar TO ds;\n",
    "\n",
    "SELECT explain_ufo(\"silent red /orange mass of energy floated by three of us in western North Carolina in the 60s\", \"\", \"\");\n",
    "\n"
   ]
  },
  {
   "cell_type": "code",
   "execution_count": 0,
   "metadata": {
    "application/vnd.databricks.v1+cell": {
     "cellMetadata": {
      "byteLimit": 2048000,
      "implicitDf": true,
      "rowLimit": 10000
     },
     "inputWidgets": {},
     "nuid": "1f5f5e63-3176-49cb-ae3e-47ca56097d6e",
     "showTitle": false,
     "tableResultSettingsMap": {},
     "title": ""
    }
   },
   "outputs": [],
   "source": [
    "%sql\n",
    "WITH text AS (\n",
    "  SELECT \"silent red /orange mass of energy floated by three of us in western North Carolina in the 60s\" AS description\n",
    ")\n",
    "SELECT *,\n",
    "  ai_query(\n",
    "    'komae-openai-gpt-4-5',\n",
    "    \"can you explain what would be the best explanation for this ufo sightseeing: \" || description\n",
    "  )\n",
    "FROM text;"
   ]
  },
  {
   "cell_type": "code",
   "execution_count": 0,
   "metadata": {
    "application/vnd.databricks.v1+cell": {
     "cellMetadata": {
      "byteLimit": 2048000,
      "implicitDf": true,
      "rowLimit": 10000
     },
     "inputWidgets": {},
     "nuid": "c1ca9de0-5f7f-4e88-ad7b-4a72c19d0e1b",
     "showTitle": false,
     "tableResultSettingsMap": {},
     "title": ""
    }
   },
   "outputs": [],
   "source": [
    "%sql\n",
    "WITH text AS (\n",
    "  SELECT \"silent red /orange mass of energy floated by three of us in western North Carolina in the 60s\" AS description\n",
    ")\n",
    "SELECT *,\n",
    "  ai_query(\n",
    "    'databricks-llama-4-maverick',\n",
    "    \"can you explain what would be the best explanation for this ufo sightseeing: \" || description\n",
    "  )\n",
    "FROM text;"
   ]
  },
  {
   "cell_type": "code",
   "execution_count": 0,
   "metadata": {
    "application/vnd.databricks.v1+cell": {
     "cellMetadata": {
      "byteLimit": 2048000,
      "implicitDf": true,
      "rowLimit": 10000
     },
     "inputWidgets": {},
     "nuid": "5688b51e-2b00-491d-90df-9ccd8654ccb9",
     "showTitle": false,
     "tableResultSettingsMap": {},
     "title": ""
    }
   },
   "outputs": [],
   "source": [
    "%sql\n",
    "WITH text AS (\n",
    "  SELECT \"silent red /orange mass of energy floated by three of us in western North Carolina in the 60s\" AS description\n",
    ")\n",
    "SELECT *,\n",
    "  ai_query(\n",
    "    'databricks-claude-3-7-sonnet',\n",
    "    \"can you explain what would be the best explanation for this ufo sightseeing: \" || description\n",
    "  )\n",
    "FROM text;"
   ]
  },
  {
   "cell_type": "code",
   "execution_count": 0,
   "metadata": {
    "application/vnd.databricks.v1+cell": {
     "cellMetadata": {},
     "inputWidgets": {},
     "nuid": "b0463870-14aa-44d7-957f-904b65017919",
     "showTitle": false,
     "tableResultSettingsMap": {},
     "title": ""
    }
   },
   "outputs": [],
   "source": [
    "# databricks-llama-4-maverick\n",
    "# sonnet\n",
    "# openai\n",
    "# databricks-claude-3-7-sonnet\n"
   ]
  }
 ],
 "metadata": {
  "application/vnd.databricks.v1+notebook": {
   "computePreferences": null,
   "dashboards": [],
   "environmentMetadata": {
    "base_environment": "",
    "environment_version": "2"
   },
   "inputWidgetPreferences": null,
   "language": "python",
   "notebookMetadata": {
    "mostRecentlyExecutedCommandWithImplicitDF": {
     "commandId": 2898346268786552,
     "dataframes": [
      "_sqldf"
     ]
    },
    "pythonIndentUnit": 2
   },
   "notebookName": "02 - Spatial analysis",
   "widgets": {}
  },
  "language_info": {
   "name": "python"
  }
 },
 "nbformat": 4,
 "nbformat_minor": 0
}
