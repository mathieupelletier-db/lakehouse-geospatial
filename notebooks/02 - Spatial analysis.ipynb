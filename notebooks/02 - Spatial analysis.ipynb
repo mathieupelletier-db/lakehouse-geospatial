{
 "cells": [
  {
   "cell_type": "code",
   "execution_count": 0,
   "metadata": {
    "application/vnd.databricks.v1+cell": {
     "cellMetadata": {
      "byteLimit": 2048000,
      "rowLimit": 10000
     },
     "inputWidgets": {},
     "nuid": "a08859de-0088-4d2f-871d-fa1d01b83e72",
     "showTitle": false,
     "tableResultSettingsMap": {},
     "title": ""
    }
   },
   "outputs": [],
   "source": [
    "%run \"./00 - Setup\""
   ]
  },
  {
   "cell_type": "markdown",
   "metadata": {
    "application/vnd.databricks.v1+cell": {
     "cellMetadata": {},
     "inputWidgets": {},
     "nuid": "1b60337b-5940-4c33-8ec9-99b63aff66e8",
     "showTitle": false,
     "tableResultSettingsMap": {},
     "title": ""
    }
   },
   "source": [
    "## Use Kepler library (GPU accelerated using WebGL) as alternative to Folium"
   ]
  },
  {
   "cell_type": "code",
   "execution_count": 0,
   "metadata": {
    "application/vnd.databricks.v1+cell": {
     "cellMetadata": {
      "byteLimit": 2048000,
      "rowLimit": 10000
     },
     "inputWidgets": {},
     "nuid": "55014acb-2d7c-4088-8439-e0f3fe397179",
     "showTitle": false,
     "tableResultSettingsMap": {},
     "title": ""
    }
   },
   "outputs": [],
   "source": [
    "%pip install keplergl==0.3.2 --quiet\n"
   ]
  },
  {
   "cell_type": "code",
   "execution_count": 0,
   "metadata": {
    "application/vnd.databricks.v1+cell": {
     "cellMetadata": {
      "byteLimit": 2048000,
      "rowLimit": 10000
     },
     "inputWidgets": {},
     "nuid": "2929f3e8-5047-4dce-a0eb-5efbbde93e2d",
     "showTitle": false,
     "tableResultSettingsMap": {},
     "title": ""
    }
   },
   "outputs": [],
   "source": [
    "dbutils.library.restartPython() # <- restart python kernel"
   ]
  },
  {
   "cell_type": "markdown",
   "metadata": {
    "application/vnd.databricks.v1+cell": {
     "cellMetadata": {},
     "inputWidgets": {},
     "nuid": "3321f469-3f9f-4121-b87c-e114a46a1431",
     "showTitle": false,
     "tableResultSettingsMap": {},
     "title": ""
    }
   },
   "source": [
    "#### Load utility class to help us display maps in cells"
   ]
  },
  {
   "cell_type": "code",
   "execution_count": 0,
   "metadata": {
    "application/vnd.databricks.v1+cell": {
     "cellMetadata": {
      "byteLimit": 2048000,
      "rowLimit": 10000
     },
     "inputWidgets": {},
     "nuid": "05189e31-d922-4fff-9b77-ce8d0bb23311",
     "showTitle": false,
     "tableResultSettingsMap": {},
     "title": ""
    }
   },
   "outputs": [],
   "source": [
    "from src.spatial.viz.kepler import *"
   ]
  },
  {
   "cell_type": "markdown",
   "metadata": {
    "application/vnd.databricks.v1+cell": {
     "cellMetadata": {},
     "inputWidgets": {},
     "nuid": "af95ac8e-339d-456c-94af-bd501b7bc324",
     "showTitle": false,
     "tableResultSettingsMap": {},
     "title": ""
    }
   },
   "source": [
    "## Perform search within a radius\n",
    "\n",
    "There is no native function to do that like PostGIS ST_DWithin. But it's possible to perform this type of search use a combination of st_buffer and st_intersects."
   ]
  },
  {
   "cell_type": "code",
   "execution_count": 0,
   "metadata": {
    "application/vnd.databricks.v1+cell": {
     "cellMetadata": {
      "byteLimit": 2048000,
      "implicitDf": true,
      "rowLimit": 10000
     },
     "inputWidgets": {},
     "nuid": "f2d90e85-e551-4db7-b732-93d9b133d2b0",
     "showTitle": false,
     "tableResultSettingsMap": {},
     "title": ""
    }
   },
   "outputs": [],
   "source": [
    "%sql\n",
    "SELECT * FROM ${catalog}.${database}.ufo_sightings\n",
    "WHERE st_intersects(st_buffer(st_geomfromtext(geometry), 0.3), st_point(-97, 29))\n",
    "LIMIT 10"
   ]
  },
  {
   "cell_type": "markdown",
   "metadata": {
    "application/vnd.databricks.v1+cell": {
     "cellMetadata": {},
     "inputWidgets": {},
     "nuid": "1aa246ec-4cd1-45a4-92a1-3f4d3bcdf456",
     "showTitle": false,
     "tableResultSettingsMap": {},
     "title": ""
    }
   },
   "source": [
    "## Join Airport\n",
    "### Optimized Spatial Join Approach using H3\n",
    "\n",
    "Performing a direct spatial join between all airports and UFO sightings would be computationally expensive. Instead, we:\n",
    "\n",
    "1. H3 Indexing\n",
    "    - Calculate the H3 hexagon index for both airport and UFO sighting locations\n",
    "    - Use the parent tile at a lower resolution (coarser granularity) to group nearby features\n",
    "\n",
    "2. Proximity Filtering\n",
    "    - Perform an initial join using these parent H3 tiles to establish potential spatial relationships\n",
    "\n",
    "3. Precise Distance Calculation\n",
    "\n",
    "    - Apply ST_DistanceSphere (or equivalent spatial function) only to candidate pairs from the H3 join\n",
    "    - Filter results by actual geographic distance threshold\n",
    "\n",
    "This hierarchical approach reduces computational complexity from O(n²) to O(n log n) while maintaining accuracy through final distance verification.\n",
    "\n"
   ]
  },
  {
   "cell_type": "code",
   "execution_count": 0,
   "metadata": {
    "application/vnd.databricks.v1+cell": {
     "cellMetadata": {
      "byteLimit": 2048000,
      "rowLimit": 10000
     },
     "inputWidgets": {},
     "nuid": "31abb32b-3e7e-48e6-a934-a041dd6fa430",
     "showTitle": false,
     "tableResultSettingsMap": {},
     "title": ""
    }
   },
   "outputs": [],
   "source": [
    "from pyspark.sql.functions import col, expr, row_number\n",
    "from pyspark.sql.window import Window\n",
    "\n",
    "ufo_sightings_df = spark.read.table(f\"{catalog}.{database}.ufo_sightings\")\n",
    "airports_df = spark.read.table(f\"{catalog}.{database}.airports\")\n",
    "\n",
    "search_radius_km = 10000  # Example: 10 km radius\n",
    "\n",
    "# Ensure both DataFrames have H3 cell IDs\n",
    "ufo_sightings_df = ufo_sightings_df.withColumn(\"h3_ufo\", expr(\"H3_POINTASH3(geometry, 9)\")) \\\n",
    "  .withColumn(\"h3_res6_cell_id\", expr(\"H3_POINTASH3(geometry, 6)\")) \\\n",
    "  .withColumn(\"ufo_parent\", expr(\"H3_TOPARENT(h3_ufo, 5)\")).alias(\"ufo\")\n",
    "airports_df = airports_df.withColumnRenamed(\"id\", \"airport_id\") \\\n",
    "  .withColumn(\"h3_airport\", expr(\"H3_POINTASH3(geometry, 9)\")) \\\n",
    "  .withColumn(\"airport_parent\", expr(\"H3_TOPARENT(h3_airport, 5)\")).alias(\"airports\")\n",
    "\n",
    "joined_df = ufo_sightings_df \\\n",
    "  .join(airports_df, expr(f\"ufo_parent == airport_parent AND st_distancesphere(ufo.geometry, airports.geometry) <= {search_radius_km}\"), \"left\") \\\n",
    "  .withColumn(\"distance_airport\", expr(\"st_distancesphere(ufo.geometry, airports.geometry)\")) \\\n",
    "  .withColumn(\"line_string\", expr(\"st_astext(st_makeline(array(st_setsrid(st_geomfromtext(ufo.geometry), 4326), st_geomfromgeojson(airports.geometry))))\"))"
   ]
  },
  {
   "cell_type": "code",
   "execution_count": 0,
   "metadata": {
    "application/vnd.databricks.v1+cell": {
     "cellMetadata": {
      "byteLimit": 2048000,
      "rowLimit": 10000
     },
     "inputWidgets": {},
     "nuid": "75ce60c7-6ce9-468f-87bc-fa03a54dd4e6",
     "showTitle": false,
     "tableResultSettingsMap": {},
     "title": ""
    }
   },
   "outputs": [],
   "source": [
    "joined_df.where(\"city = 'dallas'\").display()"
   ]
  },
  {
   "cell_type": "markdown",
   "metadata": {
    "application/vnd.databricks.v1+cell": {
     "cellMetadata": {},
     "inputWidgets": {},
     "nuid": "d3bedbef-aec7-4c78-95fa-965f90796753",
     "showTitle": false,
     "tableResultSettingsMap": {},
     "title": ""
    }
   },
   "source": [
    "\n",
    "![Alt text](../data/h3_to_h3_parent_join.png)\n"
   ]
  },
  {
   "cell_type": "code",
   "execution_count": 0,
   "metadata": {
    "application/vnd.databricks.v1+cell": {
     "cellMetadata": {
      "byteLimit": 2048000,
      "rowLimit": 10000
     },
     "inputWidgets": {},
     "nuid": "8d290caa-045a-4700-b2c1-7be0320cfedc",
     "showTitle": false,
     "tableResultSettingsMap": {},
     "title": ""
    }
   },
   "outputs": [],
   "source": [
    "map_render_dfMapItems(\n",
    "      DFMapItem(joined_df.where(\"city = 'dallas'\").select(F.expr(\"h3_h3tostring(h3_airport) as h3_airport\"), F.expr(\"h3_h3tostring(h3_ufo) as h3_ufo\"), F.expr(\"h3_h3tostring(airport_parent) as airport_parent\"), F.expr(\"h3_h3tostring(ufo_parent) as ufo_parent\"), \"name\", F.expr(\"ufo.geometry as ufo_geometry\"), F.expr(\"airports.geometry as airport_geometry\"), \"line_string\"), \"h3_airport\", RENDER_TYPE.H3_STR, exclude_cols=[])\n",
    ")"
   ]
  },
  {
   "cell_type": "markdown",
   "metadata": {
    "application/vnd.databricks.v1+cell": {
     "cellMetadata": {},
     "inputWidgets": {},
     "nuid": "1d58f477-c410-4c61-81ef-708854b3fb80",
     "showTitle": false,
     "tableResultSettingsMap": {},
     "title": ""
    }
   },
   "source": [
    "### Only keep the airport closer to the sighting"
   ]
  },
  {
   "cell_type": "code",
   "execution_count": 0,
   "metadata": {
    "application/vnd.databricks.v1+cell": {
     "cellMetadata": {
      "byteLimit": 2048000,
      "rowLimit": 10000
     },
     "inputWidgets": {},
     "nuid": "41c865e1-79ad-40ab-88b2-013d51e77ad4",
     "showTitle": false,
     "tableResultSettingsMap": {},
     "title": ""
    }
   },
   "outputs": [],
   "source": [
    "from pyspark.sql.functions import col, expr, row_number, when\n",
    "from pyspark.sql.window import Window\n",
    "\n",
    "# Window specification to get the closest airport\n",
    "window_spec = Window.partitionBy(\"id\").orderBy(col(\"distance_airport\"))\n",
    "\n",
    "# Add row number to each row within the window\n",
    "ranked_df = joined_df.withColumn(\"row_number\", row_number().over(window_spec))\n",
    "\n",
    "# Filter to keep only the closest airport\n",
    "filtered_ufo_sightings_df = ranked_df.filter(col(\"row_number\") == 1).drop(\"row_number\", \"properties\")\n",
    "\n",
    "filtered_ufo_sightings_df = filtered_ufo_sightings_df.select(\"ufo.*\", \"airport_id\").withColumn(\n",
    "    \"airport_closed_by\",\n",
    "    when(col(\"airport_id\").isNotNull(), True).otherwise(False)\n",
    ")"
   ]
  },
  {
   "cell_type": "code",
   "execution_count": 0,
   "metadata": {
    "application/vnd.databricks.v1+cell": {
     "cellMetadata": {
      "byteLimit": 2048000,
      "rowLimit": 10000
     },
     "inputWidgets": {},
     "nuid": "4019d76e-6afa-4118-a8d3-d252cdf26393",
     "showTitle": false,
     "tableResultSettingsMap": {},
     "title": ""
    }
   },
   "outputs": [],
   "source": [
    "filtered_ufo_sightings_df.display()"
   ]
  },
  {
   "cell_type": "markdown",
   "metadata": {
    "application/vnd.databricks.v1+cell": {
     "cellMetadata": {},
     "inputWidgets": {},
     "nuid": "9b261fad-4502-4345-aba4-a141acbdce3a",
     "showTitle": false,
     "tableResultSettingsMap": {},
     "title": ""
    }
   },
   "source": [
    "## Join with major cities (rural vs urban settings)"
   ]
  },
  {
   "cell_type": "code",
   "execution_count": 0,
   "metadata": {
    "application/vnd.databricks.v1+cell": {
     "cellMetadata": {
      "byteLimit": 2048000,
      "rowLimit": 10000
     },
     "inputWidgets": {},
     "nuid": "693500ae-0523-4abb-abd1-19cc9b97faf8",
     "showTitle": false,
     "tableResultSettingsMap": {},
     "title": ""
    }
   },
   "outputs": [],
   "source": [
    "\n",
    "cities_df = spark.read.table(f\"{catalog}.{database}.major_cities\")\n",
    "\n",
    "search_radius_km = 100  # Example: 5 km radius\n",
    "\n",
    "# Ensure both DataFrames have H3 cell IDs\n",
    "cities_df = cities_df.withColumnRenamed(\"id\", \"city_id\") \\\n",
    "  .withColumn(\"h3_city\", expr(\"H3_POINTASH3(geometry, 9)\")) \\\n",
    "  .withColumn(\"city_parent\", expr(\"H3_TOPARENT(h3_city, 5)\")).alias(\"cities\")\n",
    "\n",
    "joined_df = filtered_ufo_sightings_df \\\n",
    "  .join(cities_df, expr(f\"ufo_parent == city_parent AND st_distance(ufo.geometry, cities.geometry) <= {search_radius_km}\"), \"left\") \\\n",
    "  .withColumn(\"distance_city\", expr(\"st_distance(ufo.geometry, cities.geometry)\"))"
   ]
  },
  {
   "cell_type": "code",
   "execution_count": 0,
   "metadata": {
    "application/vnd.databricks.v1+cell": {
     "cellMetadata": {
      "byteLimit": 2048000,
      "rowLimit": 10000
     },
     "inputWidgets": {},
     "nuid": "d81dbc84-1156-4569-a44f-9a56d76132e6",
     "showTitle": false,
     "tableResultSettingsMap": {},
     "title": ""
    }
   },
   "outputs": [],
   "source": [
    "# Window specification to get the closest airport\n",
    "window_spec = Window.partitionBy(\"id\").orderBy(col(\"distance_city\"))\n",
    "\n",
    "# Add row number to each row within the window\n",
    "ranked_df = joined_df.withColumn(\"row_number\", row_number().over(window_spec))\n",
    "\n",
    "# Filter to keep only the closest airport\n",
    "filtered_ufo_sightings_df = ranked_df.filter(col(\"row_number\") == 1).drop(\"row_number\", \"properties\")\n",
    "\n",
    "filtered_ufo_sightings_df = filtered_ufo_sightings_df.select(\"ufo.*\", \"airport_id\", \"airport_closed_by\", \"city_id\").withColumn(\n",
    "    \"urban\",\n",
    "    when(col(\"city_id\").isNotNull(), True).otherwise(False)\n",
    ")"
   ]
  },
  {
   "cell_type": "code",
   "execution_count": 0,
   "metadata": {
    "application/vnd.databricks.v1+cell": {
     "cellMetadata": {
      "byteLimit": 2048000,
      "rowLimit": 10000
     },
     "inputWidgets": {},
     "nuid": "32d89deb-dbfb-4d40-ab59-80d74a1ca76b",
     "showTitle": false,
     "tableResultSettingsMap": {},
     "title": ""
    }
   },
   "outputs": [],
   "source": [
    "filtered_ufo_sightings_df.display()"
   ]
  },
  {
   "cell_type": "code",
   "execution_count": 0,
   "metadata": {
    "application/vnd.databricks.v1+cell": {
     "cellMetadata": {
      "byteLimit": 2048000,
      "rowLimit": 10000
     },
     "inputWidgets": {},
     "nuid": "737cfdad-ba15-4795-9505-95f476ed9242",
     "showTitle": false,
     "tableResultSettingsMap": {},
     "title": ""
    }
   },
   "outputs": [],
   "source": [
    "map_render_dfMapItems(\n",
    "  DFMapItem(filtered_ufo_sightings_df.limit(1000).select(F.expr(\"h3_h3tostring(h3_ufo) as ufo_h3\")), \"ufo_h3\", RENDER_TYPE.H3_STR, exclude_cols=[]),\n",
    "    DFMapItem(filtered_ufo_sightings_df.limit(1000).select(F.expr(\"h3_h3tostring(ufo_parent) as ufo_parent\")), \"ufo_parent\", RENDER_TYPE.H3_STR, exclude_cols=[])\n",
    ")"
   ]
  },
  {
   "cell_type": "markdown",
   "metadata": {
    "application/vnd.databricks.v1+cell": {
     "cellMetadata": {},
     "inputWidgets": {},
     "nuid": "b8a46ad2-6d2c-4ba5-83f3-71bcf4ada50e",
     "showTitle": false,
     "tableResultSettingsMap": {},
     "title": ""
    }
   },
   "source": [
    "## Spatial Join on counties in SQL\n",
    "\n",
    "Use coarse resolution for display"
   ]
  },
  {
   "cell_type": "code",
   "execution_count": 0,
   "metadata": {
    "application/vnd.databricks.v1+cell": {
     "cellMetadata": {
      "byteLimit": 2048000,
      "implicitDf": true,
      "rowLimit": 10000
     },
     "inputWidgets": {},
     "nuid": "a7dc2c50-8720-4e55-b5f5-f92b8daf8b22",
     "showTitle": false,
     "tableResultSettingsMap": {},
     "title": ""
    }
   },
   "outputs": [],
   "source": [
    "%sql\n",
    "CREATE OR REPLACE TEMPORARY VIEW valid_counties AS\n",
    "  SELECT\n",
    "    *\n",
    "  FROM ${catalog}.${database}.counties\n",
    "  WHERE ST_IsValid(geometry);\n",
    "\n",
    "CREATE OR REPLACE TEMPORARY VIEW h3_tessellation AS\n",
    "  SELECT\n",
    "    *,\n",
    "    EXPLODE(H3_TESSELLATEASWKB(geometry, 6)) AS h3\n",
    "  FROM valid_counties;\n",
    "\n",
    "SELECT count(*) FROM h3_tessellation;"
   ]
  },
  {
   "cell_type": "code",
   "execution_count": 0,
   "metadata": {
    "application/vnd.databricks.v1+cell": {
     "cellMetadata": {
      "byteLimit": 2048000,
      "rowLimit": 10000
     },
     "inputWidgets": {},
     "nuid": "1e07d9e3-d194-4f4a-b46b-d28cc94d94c7",
     "showTitle": false,
     "tableResultSettingsMap": {},
     "title": ""
    }
   },
   "outputs": [],
   "source": [
    "spark.table(\"h3_tessellation\").selectExpr(\"ST_ASTEXT(ST_GEOMFROMWKB(h3.chip)) as chip\", \"county\", \"population\").where(\"state == 'TX'\").display()"
   ]
  },
  {
   "cell_type": "code",
   "execution_count": 0,
   "metadata": {
    "application/vnd.databricks.v1+cell": {
     "cellMetadata": {
      "byteLimit": 2048000,
      "rowLimit": 10000
     },
     "inputWidgets": {},
     "nuid": "d59c62ff-ade7-4e4f-9561-d28cd603adee",
     "showTitle": false,
     "tableResultSettingsMap": {},
     "title": ""
    }
   },
   "outputs": [],
   "source": [
    "map_render_dfMapItems(\n",
    "  DFMapItem(spark.table(\"h3_tessellation\").selectExpr(\"h3.cellid as index\", \"county\", \"population\").limit(400000), \"index\", RENDER_TYPE.H3_INT, exclude_cols=[]),\n",
    ")"
   ]
  },
  {
   "cell_type": "code",
   "execution_count": 0,
   "metadata": {
    "application/vnd.databricks.v1+cell": {
     "cellMetadata": {
      "byteLimit": 2048000,
      "rowLimit": 10000
     },
     "inputWidgets": {},
     "nuid": "e561a088-5cbf-48b2-b71a-61db03247254",
     "showTitle": false,
     "tableResultSettingsMap": {},
     "title": ""
    }
   },
   "outputs": [],
   "source": [
    "map_render(spark.table(\"h3_tessellation\").selectExpr(\"ST_ASTEXT(ST_GEOMFROMWKB(h3.chip)) as chip\", \"county\", \"population\").where(\"state == 'TX'\"), \"chip\")"
   ]
  },
  {
   "cell_type": "markdown",
   "metadata": {
    "application/vnd.databricks.v1+cell": {
     "cellMetadata": {},
     "inputWidgets": {},
     "nuid": "c8bf4334-66c9-4118-aebe-89781329bc37",
     "showTitle": false,
     "tableResultSettingsMap": {},
     "title": ""
    }
   },
   "source": [
    "Use same H3 resolution than for UFO Sightings"
   ]
  },
  {
   "cell_type": "code",
   "execution_count": 0,
   "metadata": {
    "application/vnd.databricks.v1+cell": {
     "cellMetadata": {
      "byteLimit": 2048000,
      "implicitDf": true,
      "rowLimit": 10000
     },
     "inputWidgets": {},
     "nuid": "3697d9ef-1fee-4456-b564-8a4257eefbf8",
     "showTitle": false,
     "tableResultSettingsMap": {},
     "title": ""
    }
   },
   "outputs": [],
   "source": [
    "%sql\n",
    "CREATE OR REPLACE TEMPORARY VIEW valid_counties AS\n",
    "  SELECT\n",
    "    *\n",
    "  FROM ${catalog}.${database}.counties\n",
    "  WHERE ST_IsValid(geometry);\n",
    "\n",
    "CREATE OR REPLACE TEMPORARY VIEW h3_counties AS\n",
    "  SELECT\n",
    "    county, population, id as county_id,\n",
    "    EXPLODE(H3_TESSELLATEASWKB(geometry, 6)) AS h3\n",
    "  FROM valid_counties;\n",
    "\n",
    "SELECT * FROM h3_counties;"
   ]
  },
  {
   "cell_type": "code",
   "execution_count": 0,
   "metadata": {
    "application/vnd.databricks.v1+cell": {
     "cellMetadata": {
      "byteLimit": 2048000,
      "rowLimit": 10000
     },
     "inputWidgets": {},
     "nuid": "147c6b10-6b44-4ab1-8b93-5cc3745702fd",
     "showTitle": false,
     "tableResultSettingsMap": {},
     "title": ""
    }
   },
   "outputs": [],
   "source": [
    "filtered_ufo_sightings_df.createOrReplaceTempView(\"filtered_ufo_sightings\")"
   ]
  },
  {
   "cell_type": "code",
   "execution_count": 0,
   "metadata": {
    "application/vnd.databricks.v1+cell": {
     "cellMetadata": {
      "byteLimit": 2048000,
      "implicitDf": true,
      "rowLimit": 10000
     },
     "inputWidgets": {},
     "nuid": "7407e99d-e725-446f-b447-030a554fa6b4",
     "showTitle": false,
     "tableResultSettingsMap": {},
     "title": ""
    }
   },
   "outputs": [],
   "source": [
    "%sql\n",
    "\n",
    "CREATE OR REPLACE TABLE ${catalog}.${database}.enriched_ufo_sightings\n",
    "SELECT\n",
    "  id, datetime, shape, duration_seconds, comments, city, state, latitude, longitude, geometry, airport_id, airport_closed_by, urban, city_id, county, population, county_id, '' as reason\n",
    "FROM filtered_ufo_sightings u\n",
    "  INNER JOIN h3_counties c\n",
    "  ON u.h3_res6_cell_id = c.h3.cellid\n",
    "WHERE\n",
    "  c.h3.core OR ST_CONTAINS(c.h3.chip, u.geometry)"
   ]
  },
  {
   "cell_type": "code",
   "execution_count": 0,
   "metadata": {
    "application/vnd.databricks.v1+cell": {
     "cellMetadata": {
      "byteLimit": 2048000,
      "implicitDf": true,
      "rowLimit": 10000
     },
     "inputWidgets": {},
     "nuid": "32e21893-9a44-4ea3-8556-17e85dcccd0c",
     "showTitle": false,
     "tableResultSettingsMap": {},
     "title": ""
    }
   },
   "outputs": [],
   "source": [
    "%sql\n",
    "ALTER TABLE ${catalog}.${database}.enriched_ufo_sightings\n",
    "ADD CONSTRAINT fk_city_id\n",
    "FOREIGN KEY (city_id) REFERENCES ${catalog}.${database}.major_cities(id);\n",
    "\n",
    "ALTER TABLE ${catalog}.${database}.enriched_ufo_sightings\n",
    "ADD CONSTRAINT fk_airport_id\n",
    "FOREIGN KEY (airport_id) REFERENCES ${catalog}.${database}.airports(id);\n",
    "\n",
    "ALTER TABLE ${catalog}.${database}.enriched_ufo_sightings\n",
    "ADD CONSTRAINT fk_county_id\n",
    "FOREIGN KEY (county_id) REFERENCES ${catalog}.${database}.counties(id);"
   ]
  },
  {
   "cell_type": "markdown",
   "metadata": {
    "application/vnd.databricks.v1+cell": {
     "cellMetadata": {},
     "inputWidgets": {},
     "nuid": "d4698846-1ff9-49fa-b435-4a0bc90ac853",
     "showTitle": false,
     "tableResultSettingsMap": {},
     "title": ""
    }
   },
   "source": [
    "## Compute stats"
   ]
  },
  {
   "cell_type": "code",
   "execution_count": 0,
   "metadata": {
    "application/vnd.databricks.v1+cell": {
     "cellMetadata": {
      "byteLimit": 2048000,
      "implicitDf": true,
      "rowLimit": 10000
     },
     "inputWidgets": {},
     "nuid": "b3f3c442-87ba-4db4-9b05-7baae4e3db0a",
     "showTitle": false,
     "tableResultSettingsMap": {},
     "title": ""
    }
   },
   "outputs": [],
   "source": [
    "%sql\n",
    "SELECT \n",
    "  urban,\n",
    "  COUNT(*) AS count,\n",
    "  (COUNT(*) * 100.0 / SUM(COUNT(*)) OVER ()) AS percentage\n",
    "FROM ${catalog}.${database}.enriched_ufo_sightings\n",
    "GROUP BY urban;"
   ]
  },
  {
   "cell_type": "code",
   "execution_count": 0,
   "metadata": {
    "application/vnd.databricks.v1+cell": {
     "cellMetadata": {
      "byteLimit": 2048000,
      "implicitDf": true,
      "rowLimit": 10000
     },
     "inputWidgets": {},
     "nuid": "80b39137-a349-4ee1-8ec6-ce87407ec376",
     "showTitle": false,
     "tableResultSettingsMap": {},
     "title": ""
    }
   },
   "outputs": [],
   "source": [
    "%sql\n",
    "SELECT \n",
    "  airport_closed_by,\n",
    "  COUNT(*) AS count,\n",
    "  (COUNT(*) * 100.0 / SUM(COUNT(*)) OVER ()) AS percentage\n",
    "FROM ${catalog}.${database}.enriched_ufo_sightings\n",
    "GROUP BY airport_closed_by;"
   ]
  },
  {
   "cell_type": "markdown",
   "metadata": {
    "application/vnd.databricks.v1+cell": {
     "cellMetadata": {},
     "inputWidgets": {},
     "nuid": "dcae3252-7d93-455e-8fbd-453efdcf0397",
     "showTitle": false,
     "tableResultSettingsMap": {},
     "title": ""
    }
   },
   "source": [
    "**Is there a correlation between population and number of sightings?**\n",
    "\n",
    "Most populous counties seems to have observe the most UFO sightings."
   ]
  },
  {
   "cell_type": "code",
   "execution_count": 0,
   "metadata": {
    "application/vnd.databricks.v1+cell": {
     "cellMetadata": {
      "byteLimit": 2048000,
      "implicitDf": true,
      "rowLimit": 10000
     },
     "inputWidgets": {},
     "nuid": "0fea1d24-1e38-4a60-bab4-a1a893fcc352",
     "showTitle": false,
     "tableResultSettingsMap": {},
     "title": ""
    }
   },
   "outputs": [],
   "source": [
    "%sql\n",
    "WITH sightings_count AS (\n",
    "    SELECT \n",
    "        county_id, \n",
    "        COUNT(*) AS num_sightings\n",
    "    FROM \n",
    "        ${catalog}.${database}.enriched_ufo_sightings\n",
    "    GROUP BY \n",
    "        county_id\n",
    ")\n",
    "SELECT \n",
    "    int(sc.num_sightings),\n",
    "    int(c.population)\n",
    "FROM \n",
    "    sightings_count sc\n",
    "JOIN \n",
    "    ${catalog}.${database}.counties c\n",
    "ON \n",
    "    sc.county_id = c.id\n",
    "WHERE sc.num_sightings > 100;\n",
    "\n"
   ]
  },
  {
   "cell_type": "markdown",
   "metadata": {
    "application/vnd.databricks.v1+cell": {
     "cellMetadata": {},
     "inputWidgets": {},
     "nuid": "a2e7def9-6044-430a-a16f-ed1a808c570e",
     "showTitle": false,
     "tableResultSettingsMap": {},
     "title": ""
    }
   },
   "source": [
    "![Alt text](../data/population_correlation.png)\n"
   ]
  },
  {
   "cell_type": "markdown",
   "metadata": {
    "application/vnd.databricks.v1+cell": {
     "cellMetadata": {},
     "inputWidgets": {},
     "nuid": "78f7e2d8-8a21-430d-b141-c4cd76a46dec",
     "showTitle": false,
     "tableResultSettingsMap": {},
     "title": ""
    }
   },
   "source": [
    "## Detect clusters with hull"
   ]
  },
  {
   "cell_type": "code",
   "execution_count": 0,
   "metadata": {
    "application/vnd.databricks.v1+cell": {
     "cellMetadata": {
      "byteLimit": 2048000,
      "implicitDf": true,
      "rowLimit": 10000
     },
     "inputWidgets": {},
     "nuid": "7a5a8c58-1af8-4ea1-89e8-de4aa04807e9",
     "showTitle": false,
     "tableResultSettingsMap": {},
     "title": ""
    }
   },
   "outputs": [],
   "source": [
    "%sql\n",
    "CREATE OR REPLACE TEMPORARY VIEW sightings_hull AS (\n",
    "  SELECT \n",
    "    st_aswkt(st_convexhull(st_makeline(collect_list(ST_GeomFromText(geometry))))) AS g,\n",
    "    count(county) as total\n",
    "  FROM ${catalog}.${database}.enriched_ufo_sightings\n",
    "  GROUP BY county, state\n",
    ");\n",
    "\n",
    "SELECT * FROM sightings_hull\n",
    "WHERE g LIKE 'POLYGON%';"
   ]
  },
  {
   "cell_type": "code",
   "execution_count": 0,
   "metadata": {
    "application/vnd.databricks.v1+cell": {
     "cellMetadata": {
      "byteLimit": 2048000,
      "rowLimit": 10000
     },
     "inputWidgets": {},
     "nuid": "e425b536-a6e1-40df-bb59-57c2ab420b0a",
     "showTitle": false,
     "tableResultSettingsMap": {},
     "title": ""
    }
   },
   "outputs": [],
   "source": [
    "map_render(spark.table(\"sightings_hull\").filter(\"g LIKE 'POLYGON%'\"), \"g\")\n"
   ]
  },
  {
   "cell_type": "markdown",
   "metadata": {
    "application/vnd.databricks.v1+cell": {
     "cellMetadata": {},
     "inputWidgets": {},
     "nuid": "6861bffb-70e0-4fc8-b788-67ab4ff5e5ce",
     "showTitle": false,
     "tableResultSettingsMap": {},
     "title": ""
    }
   },
   "source": [
    "Using Kepler, show sightings with gradient coloring on the duration field."
   ]
  },
  {
   "cell_type": "code",
   "execution_count": 0,
   "metadata": {
    "application/vnd.databricks.v1+cell": {
     "cellMetadata": {
      "byteLimit": 2048000,
      "rowLimit": 10000
     },
     "inputWidgets": {},
     "nuid": "9f29636b-c80e-47bb-a293-f0a818529afa",
     "showTitle": false,
     "tableResultSettingsMap": {},
     "title": ""
    }
   },
   "outputs": [],
   "source": [
    "map_render(spark.table(f\"{catalog}.{database}.enriched_ufo_sightings\"), \"geometry\")"
   ]
  },
  {
   "cell_type": "code",
   "execution_count": 0,
   "metadata": {
    "application/vnd.databricks.v1+cell": {
     "cellMetadata": {
      "byteLimit": 2048000,
      "implicitDf": true,
      "rowLimit": 10000
     },
     "inputWidgets": {},
     "nuid": "865ea220-9366-4cb7-ad1d-163f0e230b68",
     "showTitle": false,
     "tableResultSettingsMap": {},
     "title": ""
    }
   },
   "outputs": [],
   "source": [
    "%sql\n",
    "CREATE OR REPLACE TEMPORARY VIEW sightings_county AS (\n",
    "  SELECT \n",
    "    county_id,\n",
    "    count(county_id) as total\n",
    "  FROM ${catalog}.${database}.enriched_ufo_sightings\n",
    "  GROUP BY county_id\n",
    ");\n",
    "\n",
    "SELECT * FROM sightings_county s\n",
    " JOIN ${catalog}.${database}.counties c ON c.id = s.county_id;"
   ]
  },
  {
   "cell_type": "code",
   "execution_count": 0,
   "metadata": {
    "application/vnd.databricks.v1+cell": {
     "cellMetadata": {
      "byteLimit": 2048000,
      "rowLimit": 10000
     },
     "inputWidgets": {},
     "nuid": "0853c934-7538-4a2b-8e6e-b6e019b38a18",
     "showTitle": false,
     "tableResultSettingsMap": {},
     "title": ""
    }
   },
   "outputs": [],
   "source": [
    "map_render(spark.sql(f\"SELECT * FROM sightings_county s JOIN {catalog}.{database}.counties c ON c.id = s.county_id\"), \"geometry\")"
   ]
  },
  {
   "cell_type": "markdown",
   "metadata": {
    "application/vnd.databricks.v1+cell": {
     "cellMetadata": {},
     "inputWidgets": {},
     "nuid": "576a2e68-dcad-4510-9cb1-79053a5c1353",
     "showTitle": false,
     "tableResultSettingsMap": {},
     "title": ""
    }
   },
   "source": [
    "## Use GenAI to come up with possible explanations"
   ]
  },
  {
   "cell_type": "code",
   "execution_count": 0,
   "metadata": {
    "application/vnd.databricks.v1+cell": {
     "cellMetadata": {
      "byteLimit": 2048000,
      "implicitDf": true,
      "rowLimit": 10000
     },
     "inputWidgets": {},
     "nuid": "a821ab58-2c83-49ce-9374-caf730e50500",
     "showTitle": false,
     "tableResultSettingsMap": {},
     "title": ""
    }
   },
   "outputs": [],
   "source": [
    "%sql\n",
    "CREATE OR REPLACE FUNCTION explain_ufo(description STRING, location STRING, datetime STRING)\n",
    "  RETURNS STRING\n",
    "  RETURN ai_query(\n",
    "    'databricks-claude-3-7-sonnet',\n",
    "    \"can you explain what would be the best explanation for this ufo sightseeing: \" || description || \" that happened at \" || datetime || \" at \" || location);\n",
    "\n",
    "SELECT explain_ufo(\"silent red /orange mass of energy floated by three of us \", \"10/10/1998 20:30\", \"nyc/westchester area\");"
   ]
  },
  {
   "cell_type": "code",
   "execution_count": 0,
   "metadata": {
    "application/vnd.databricks.v1+cell": {
     "cellMetadata": {
      "byteLimit": 2048000,
      "implicitDf": true,
      "rowLimit": 10000
     },
     "inputWidgets": {},
     "nuid": "f4614042-dab1-4b33-8a64-fffadeb39831",
     "showTitle": false,
     "tableResultSettingsMap": {},
     "title": ""
    }
   },
   "outputs": [],
   "source": [
    "%sql\n",
    "-- Create a temporary view with the updated values\n",
    "CREATE OR REPLACE TEMP VIEW updated_ufo_sightings AS\n",
    "SELECT *,\n",
    "       explain_ufo(comments, datetime, city || ' ' || state) AS new_reason\n",
    "FROM ${catalog}.${database}.enriched_ufo_sightings\n",
    "LIMIT 10;\n",
    "\n",
    "-- Perform the update using the MERGE statement\n",
    "MERGE INTO ${catalog}.${database}.enriched_ufo_sightings AS target\n",
    "USING updated_ufo_sightings AS source\n",
    "ON target.id = source.id\n",
    "WHEN MATCHED THEN\n",
    "  UPDATE SET target.reason = source.new_reason;"
   ]
  },
  {
   "cell_type": "code",
   "execution_count": 0,
   "metadata": {
    "application/vnd.databricks.v1+cell": {
     "cellMetadata": {
      "byteLimit": 2048000,
      "implicitDf": true,
      "rowLimit": 10000
     },
     "inputWidgets": {},
     "nuid": "170aad72-f325-4ab5-8c90-b7b8cb2acabb",
     "showTitle": false,
     "tableResultSettingsMap": {},
     "title": ""
    }
   },
   "outputs": [],
   "source": [
    "%sql\n",
    "SELECT *,\n",
    "       explain_ufo(comments, datetime, city || ' ' || state) AS new_reason\n",
    "FROM ${catalog}.${database}.enriched_ufo_sightings\n",
    "LIMIT 10"
   ]
  },
  {
   "cell_type": "code",
   "execution_count": 0,
   "metadata": {
    "application/vnd.databricks.v1+cell": {
     "cellMetadata": {
      "byteLimit": 2048000,
      "implicitDf": true,
      "rowLimit": 10000
     },
     "inputWidgets": {},
     "nuid": "1f5f5e63-3176-49cb-ae3e-47ca56097d6e",
     "showTitle": false,
     "tableResultSettingsMap": {},
     "title": ""
    }
   },
   "outputs": [],
   "source": [
    "%sql\n",
    "WITH text AS (\n",
    "  SELECT \"silent red /orange mass of energy floated by three of us in western North Carolina in the 60s\" AS description\n",
    ")\n",
    "SELECT *,\n",
    "  ai_query(\n",
    "    'databricks-meta-llama-3-1-8b-instruct',\n",
    "    \"can you explain what would be the best explanation for this ufo sighting: \" || description\n",
    "  )\n",
    "FROM text;"
   ]
  },
  {
   "cell_type": "code",
   "execution_count": 0,
   "metadata": {
    "application/vnd.databricks.v1+cell": {
     "cellMetadata": {
      "byteLimit": 2048000,
      "implicitDf": true,
      "rowLimit": 10000
     },
     "inputWidgets": {},
     "nuid": "c1ca9de0-5f7f-4e88-ad7b-4a72c19d0e1b",
     "showTitle": false,
     "tableResultSettingsMap": {},
     "title": ""
    }
   },
   "outputs": [],
   "source": [
    "%sql\n",
    "WITH text AS (\n",
    "  SELECT \"silent red /orange mass of energy floated by three of us in western North Carolina in the 60s\" AS description\n",
    ")\n",
    "SELECT *,\n",
    "  ai_query(\n",
    "    'databricks-llama-4-maverick',\n",
    "    \"can you explain what would be the best explanation for this ufo sighting: \" || description\n",
    "  )\n",
    "FROM text;"
   ]
  },
  {
   "cell_type": "code",
   "execution_count": 0,
   "metadata": {
    "application/vnd.databricks.v1+cell": {
     "cellMetadata": {
      "byteLimit": 2048000,
      "implicitDf": true,
      "rowLimit": 10000
     },
     "inputWidgets": {},
     "nuid": "5688b51e-2b00-491d-90df-9ccd8654ccb9",
     "showTitle": false,
     "tableResultSettingsMap": {},
     "title": ""
    }
   },
   "outputs": [],
   "source": [
    "%sql\n",
    "WITH text AS (\n",
    "  SELECT \"silent red /orange mass of energy floated by three of us in western North Carolina in the 60s\" AS description\n",
    ")\n",
    "SELECT *,\n",
    "  ai_query(\n",
    "    'databricks-claude-3-7-sonnet',\n",
    "    \"can you explain what would be the best explanation for this ufo sighting: \" || description\n",
    "  )\n",
    "FROM text;"
   ]
  }
 ],
 "metadata": {
  "application/vnd.databricks.v1+notebook": {
   "computePreferences": null,
   "dashboards": [],
   "environmentMetadata": {
    "base_environment": "",
    "environment_version": "2"
   },
   "inputWidgetPreferences": null,
   "language": "python",
   "notebookMetadata": {
    "mostRecentlyExecutedCommandWithImplicitDF": {
     "commandId": 3448788214709533,
     "dataframes": [
      "_sqldf"
     ]
    },
    "pythonIndentUnit": 2
   },
   "notebookName": "02 - Spatial analysis",
   "widgets": {
    "catalog": {
     "currentValue": "mpelletier",
     "nuid": "2f64d5dc-227b-45c9-ae2a-21f04b1e0c8c",
     "typedWidgetInfo": {
      "autoCreated": false,
      "defaultValue": "mpelletier",
      "label": null,
      "name": "catalog",
      "options": {
       "widgetDisplayType": "Text",
       "validationRegex": null
      },
      "parameterDataType": "String"
     },
     "widgetInfo": {
      "widgetType": "text",
      "defaultValue": "mpelletier",
      "label": null,
      "name": "catalog",
      "options": {
       "widgetType": "text",
       "autoCreated": null,
       "validationRegex": null
      }
     }
    },
    "database": {
     "currentValue": "summit",
     "nuid": "4242b126-7be6-4187-8cbf-d940b6f5f786",
     "typedWidgetInfo": {
      "autoCreated": false,
      "defaultValue": "summit",
      "label": null,
      "name": "database",
      "options": {
       "widgetDisplayType": "Text",
       "validationRegex": null
      },
      "parameterDataType": "String"
     },
     "widgetInfo": {
      "widgetType": "text",
      "defaultValue": "summit",
      "label": null,
      "name": "database",
      "options": {
       "widgetType": "text",
       "autoCreated": null,
       "validationRegex": null
      }
     }
    },
    "volume": {
     "currentValue": "input",
     "nuid": "8c8e89a8-737d-4bef-b990-1ad58f1440e7",
     "typedWidgetInfo": {
      "autoCreated": false,
      "defaultValue": "input",
      "label": null,
      "name": "volume",
      "options": {
       "widgetDisplayType": "Text",
       "validationRegex": null
      },
      "parameterDataType": "String"
     },
     "widgetInfo": {
      "widgetType": "text",
      "defaultValue": "input",
      "label": null,
      "name": "volume",
      "options": {
       "widgetType": "text",
       "autoCreated": null,
       "validationRegex": null
      }
     }
    }
   }
  },
  "language_info": {
   "name": "python"
  }
 },
 "nbformat": 4,
 "nbformat_minor": 0
}
