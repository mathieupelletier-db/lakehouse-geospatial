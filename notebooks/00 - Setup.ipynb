{
 "cells": [
  {
   "cell_type": "markdown",
   "metadata": {
    "application/vnd.databricks.v1+cell": {
     "cellMetadata": {},
     "inputWidgets": {},
     "nuid": "cab12526-bec4-40dc-9c30-fb4fd2c737dd",
     "showTitle": false,
     "tableResultSettingsMap": {},
     "title": ""
    }
   },
   "source": [
    "## Example: Ingesting CSV and ArcGIS GeoJSON data in the Lakehouse and perform Spatial analysis.\n",
    "\n",
    "__Notes__\n",
    "\n",
    "* This example was run using DBR 16.0 on a 3 worker cluster (each with 8 CPUs and 61GB RAM);\n",
    "* Requires a cluster with product `ST_` spatial sql functions enabled for KeplerGL Viz (may require photon cluster + spatial sql flag enabled).\n",
    "* For the notebook to render well in github, we add screenshots of the map rendering and charts as well as artificially limit tabular results; when you run the notebook in databricks, you can uncomment and remove limits if desired.\n",
    "\n",
    "---\n",
    "__Author:__ Mathieu Pelletier <mathieu.pelletier@databricks.com> | _Last Modified:_ 14 APR 2025"
   ]
  },
  {
   "cell_type": "code",
   "execution_count": 0,
   "metadata": {
    "application/vnd.databricks.v1+cell": {
     "cellMetadata": {
      "byteLimit": 2048000,
      "rowLimit": 10000
     },
     "inputWidgets": {},
     "nuid": "57d02c90-650e-41e3-87b7-5871a39d1e70",
     "showTitle": false,
     "tableResultSettingsMap": {},
     "title": ""
    }
   },
   "outputs": [],
   "source": [
    "dbutils.widgets.text(\"catalog\", \"mpelletier\")\n",
    "dbutils.widgets.text(\"database\", \"summit\")\n",
    "dbutils.widgets.text(\"volume\", \"input\")"
   ]
  },
  {
   "cell_type": "code",
   "execution_count": 0,
   "metadata": {
    "application/vnd.databricks.v1+cell": {
     "cellMetadata": {
      "byteLimit": 2048000,
      "rowLimit": 10000
     },
     "inputWidgets": {},
     "nuid": "d138ba5c-f583-4b0c-87a9-a202fc3862b9",
     "showTitle": false,
     "tableResultSettingsMap": {},
     "title": ""
    }
   },
   "outputs": [],
   "source": [
    "# dbutils.library.restartPython()"
   ]
  },
  {
   "cell_type": "code",
   "execution_count": 0,
   "metadata": {
    "application/vnd.databricks.v1+cell": {
     "cellMetadata": {
      "byteLimit": 2048000,
      "rowLimit": 10000
     },
     "inputWidgets": {},
     "nuid": "6d4777db-1fb4-4b2a-8780-bad251462eb8",
     "showTitle": false,
     "tableResultSettingsMap": {},
     "title": ""
    }
   },
   "outputs": [],
   "source": [
    "from src.spatial.arcgis import register_arcgis_data_source\n",
    "register_arcgis_data_source()"
   ]
  }
 ],
 "metadata": {
  "application/vnd.databricks.v1+notebook": {
   "computePreferences": null,
   "dashboards": [],
   "environmentMetadata": {
    "base_environment": "",
    "environment_version": "2"
   },
   "inputWidgetPreferences": null,
   "language": "python",
   "notebookMetadata": {
    "pythonIndentUnit": 2
   },
   "notebookName": "00 - Setup",
   "widgets": {
    "catalog": {
     "currentValue": "mpelletier",
     "nuid": "c548b3b3-81e5-4372-bff6-791b5baddf8e",
     "typedWidgetInfo": {
      "autoCreated": false,
      "defaultValue": "mpelletier",
      "label": null,
      "name": "catalog",
      "options": {
       "widgetDisplayType": "Text",
       "validationRegex": null
      },
      "parameterDataType": "String"
     },
     "widgetInfo": {
      "widgetType": "text",
      "defaultValue": "mpelletier",
      "label": null,
      "name": "catalog",
      "options": {
       "widgetType": "text",
       "autoCreated": false,
       "validationRegex": null
      }
     }
    },
    "database": {
     "currentValue": "summit",
     "nuid": "d3ceedfa-c95a-4f7c-8d8a-6573a427b2e6",
     "typedWidgetInfo": {
      "autoCreated": false,
      "defaultValue": "summit",
      "label": null,
      "name": "database",
      "options": {
       "widgetDisplayType": "Text",
       "validationRegex": null
      },
      "parameterDataType": "String"
     },
     "widgetInfo": {
      "widgetType": "text",
      "defaultValue": "summit",
      "label": null,
      "name": "database",
      "options": {
       "widgetType": "text",
       "autoCreated": false,
       "validationRegex": null
      }
     }
    },
    "volume": {
     "currentValue": "input",
     "nuid": "3d449cb6-bfd5-4da8-b0fc-168cce0c4564",
     "typedWidgetInfo": {
      "autoCreated": false,
      "defaultValue": "input",
      "label": null,
      "name": "volume",
      "options": {
       "widgetDisplayType": "Text",
       "validationRegex": null
      },
      "parameterDataType": "String"
     },
     "widgetInfo": {
      "widgetType": "text",
      "defaultValue": "input",
      "label": null,
      "name": "volume",
      "options": {
       "widgetType": "text",
       "autoCreated": false,
       "validationRegex": null
      }
     }
    }
   }
  },
  "language_info": {
   "name": "python"
  }
 },
 "nbformat": 4,
 "nbformat_minor": 0
}
