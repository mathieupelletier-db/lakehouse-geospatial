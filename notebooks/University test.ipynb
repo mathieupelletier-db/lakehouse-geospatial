{
 "cells": [
  {
   "cell_type": "code",
   "execution_count": 0,
   "metadata": {
    "application/vnd.databricks.v1+cell": {
     "cellMetadata": {
      "byteLimit": 2048000,
      "rowLimit": 10000
     },
     "inputWidgets": {},
     "nuid": "44824980-86fb-4a82-b50c-5e42b5249728",
     "showTitle": false,
     "tableResultSettingsMap": {},
     "title": ""
    }
   },
   "outputs": [],
   "source": [
    "%run \"./00 - Setup\""
   ]
  },
  {
   "cell_type": "code",
   "execution_count": 0,
   "metadata": {
    "application/vnd.databricks.v1+cell": {
     "cellMetadata": {
      "byteLimit": 2048000,
      "rowLimit": 10000
     },
     "inputWidgets": {},
     "nuid": "ff2bd287-6a88-4197-a17a-b7cf954873ca",
     "showTitle": false,
     "tableResultSettingsMap": {},
     "title": ""
    }
   },
   "outputs": [],
   "source": [
    "from pyspark.sql.functions import expr,col\n",
    "\n",
    "cities_df = spark.read.format(\"arcgis\") \\\n",
    ".option(\"url\", \"https://services1.arcgis.com/Hp6G80Pky0om7QvQ/arcgis/rest/services/Colleges_and_Universities/FeatureServer/0\") \\\n",
    ".load() \n",
    "\n",
    "cities_df = cities_df.withColumn(\"geometry\", expr(\"st_aswkt(ST_GeomFromGeoJSON(geometry))\"))\\\n",
    "  .withColumn(\"name\", col(\"properties\").getItem(\"NAME\"))\\\n",
    "  .withColumn(\"native\", expr(\"ST_GeomFromGeoJSON(geometry)\"))\n",
    "\n",
    "cities_df.drop(\"type\", \"properties\").display()"
   ]
  },
  {
   "cell_type": "code",
   "execution_count": 0,
   "metadata": {
    "application/vnd.databricks.v1+cell": {
     "cellMetadata": {
      "byteLimit": 2048000,
      "rowLimit": 10000
     },
     "inputWidgets": {},
     "nuid": "0d9b5332-9651-4933-ae45-cd3d55d0de45",
     "showTitle": false,
     "tableResultSettingsMap": {},
     "title": ""
    }
   },
   "outputs": [],
   "source": [
    "from pyspark.sql.functions import col, expr, row_number\n",
    "from pyspark.sql.window import Window\n",
    "\n",
    "ufo_sightings_df = spark.read.table(f\"{catalog}.{database}.ufo_sightings\")\n",
    "\n",
    "search_radius_km = 250  # Example: 10 km radius\n",
    "\n",
    "# Ensure both DataFrames have H3 cell IDs\n",
    "ufo_sightings_df = ufo_sightings_df.withColumn(\"h3_ufo\", expr(\"H3_POINTASH3(geometry, 5)\")).alias(\"ufo\")\n",
    "cities_df = cities_df.withColumnRenamed(\"id\", \"airport_id\") \\\n",
    "  .withColumn(\"h3_airport\", expr(\"H3_POINTASH3(geometry, 5)\")).alias(\"airports\")\n",
    "\n",
    "joined_df = ufo_sightings_df \\\n",
    "  .join(cities_df, expr(f\"h3_ufo == h3_airport AND st_distancesphere(ufo.geometry, airports.geometry) <= {search_radius_km}\"), \"left\") \\\n",
    "  .withColumn(\"distance_airport\", expr(\"st_distancesphere(ufo.geometry, airports.geometry)\")) \\\n",
    "  .withColumn(\"line_string\", expr(\"st_astext(st_makeline(array(st_setsrid(st_geomfromtext(ufo.geometry), 4326), st_setsrid(st_geomfromtext(airports.geometry), 4326))))\"))\n",
    "\n",
    "joined_df = joined_df.where(col(\"airport_id\").isNotNull())"
   ]
  },
  {
   "cell_type": "code",
   "execution_count": 0,
   "metadata": {
    "application/vnd.databricks.v1+cell": {
     "cellMetadata": {
      "byteLimit": 2048000,
      "rowLimit": 10000
     },
     "inputWidgets": {},
     "nuid": "2b6e114e-27a5-400f-8a2f-cde0da6af355",
     "showTitle": false,
     "tableResultSettingsMap": {},
     "title": ""
    }
   },
   "outputs": [],
   "source": [
    "from pyspark.sql.functions import col, expr, row_number, when\n",
    "from pyspark.sql.window import Window\n",
    "\n",
    "# Window specification to get the closest airport\n",
    "window_spec = Window.partitionBy(\"id\").orderBy(col(\"distance_airport\"))\n",
    "\n",
    "# Add row number to each row within the window\n",
    "ranked_df = joined_df.withColumn(\"row_number\", row_number().over(window_spec))\n",
    "\n",
    "# Filter to keep only the closest airport\n",
    "ranked_df.filter(col(\"row_number\") == 1).drop(\"row_number\", \"properties\").count()\n"
   ]
  },
  {
   "cell_type": "code",
   "execution_count": 0,
   "metadata": {
    "application/vnd.databricks.v1+cell": {
     "cellMetadata": {
      "byteLimit": 2048000,
      "rowLimit": 10000
     },
     "inputWidgets": {},
     "nuid": "9101ca84-feb9-482f-8584-c2e63fbaf607",
     "showTitle": false,
     "tableResultSettingsMap": {},
     "title": ""
    }
   },
   "outputs": [],
   "source": [
    "ufo_sightings_df.count()"
   ]
  }
 ],
 "metadata": {
  "application/vnd.databricks.v1+notebook": {
   "computePreferences": null,
   "dashboards": [],
   "environmentMetadata": {
    "base_environment": "",
    "environment_version": "2"
   },
   "inputWidgetPreferences": null,
   "language": "python",
   "notebookMetadata": {
    "pythonIndentUnit": 2
   },
   "notebookName": "University test",
   "widgets": {}
  },
  "language_info": {
   "name": "python"
  }
 },
 "nbformat": 4,
 "nbformat_minor": 0
}
